{
 "cells": [
  {
   "cell_type": "markdown",
   "id": "e4de85cc",
   "metadata": {},
   "source": [
    "## Import Pandas Module and Data Set"
   ]
  },
  {
   "cell_type": "code",
   "execution_count": 395,
   "id": "d13561ab",
   "metadata": {},
   "outputs": [
    {
     "name": "stdout",
     "output_type": "stream",
     "text": [
      "Populating the interactive namespace from numpy and matplotlib\n"
     ]
    },
    {
     "name": "stderr",
     "output_type": "stream",
     "text": [
      "/opt/anaconda3/lib/python3.8/site-packages/IPython/core/magics/pylab.py:159: UserWarning: pylab import has clobbered these variables: ['clf']\n",
      "`%matplotlib` prevents importing * from pylab and numpy\n",
      "  warn(\"pylab import has clobbered these variables: %s\"  % clobbered +\n"
     ]
    }
   ],
   "source": [
    "import pandas as pd\n",
    "%pylab inline"
   ]
  },
  {
   "cell_type": "raw",
   "id": "ae1e5127",
   "metadata": {},
   "source": [
    "Hotel (H1 = Resort Hotel or H2 = City Hotel)\n",
    "\n",
    "is_canceled\n",
    "Value indicating if the booking was canceled (1) or not (0)\n",
    "\n",
    "lead_time\n",
    "Number of days that elapsed between the entering date of the booking into the PMS and the arrival date\n",
    "\n",
    "arrival_date_year\n",
    "Year of arrival date\n",
    "\n",
    "arrival_date_month\n",
    "Month of arrival date\n",
    "\n",
    "arrival_date_week_number\n",
    "Week number of year for arrival date\n",
    "\n",
    "arrival_date_day_of_month\n",
    "Day of arrival date\n",
    "\n",
    "stays_in_weekend_nights\n",
    "Number of weekend nights (Saturday or Sunday) the guest stayed or booked to stay at the hotel\n",
    "\n",
    "stays_in_week_nights\n",
    "Number of week nights (Monday to Friday) the guest stayed or booked to stay at the hotel\n",
    "\n",
    "adults\n",
    "Number of adults\n",
    "\n",
    "children\n",
    "Number of children\n",
    "\n",
    "babies\n",
    "Number of babies\n",
    "\n",
    "meal\n",
    "Type of meal booked. Categories are presented in standard hospitality meal packages: Undefined/SC – no meal package; BB – Bed & Breakfast; HB – Half board (breakfast and one other meal – usually dinner); FB – Full board (breakfast, lunch and dinner)\n",
    "\n",
    "country\n",
    "Country of origin. Categories are represented in the ISO 3155–3:2013 format\n",
    "\n",
    "market_segment\n",
    "Market segment designation. In categories, the term “TA” means “Travel Agents” and “TO” means “Tour Operators”\n",
    "\n",
    "distribution_channel\n",
    "Booking distribution channel. The term “TA” means “Travel Agents” and “TO” means “Tour Operators”\n",
    "\n",
    "is_repeated_guest\n",
    "Value indicating if the booking name was from a repeated guest (1) or not (0)\n",
    "\n",
    "previous_cancellations\n",
    "Number of previous bookings that were cancelled by the customer prior to the current booking\n",
    "\n",
    "previous_bookings_not_canceled\n",
    "Number of previous bookings not cancelled by the customer prior to the current booking\n",
    "\n",
    "reserved_room_type\n",
    "Code of room type reserved. Code is presented instead of designation for anonymity reasons.\n",
    "\n",
    "assigned_room_type\n",
    "Code for the type of room assigned to the booking. Sometimes the assigned room type differs from the reserved room type due to hotel operation reasons (e.g. overbooking) or by customer request. Code is presented instead of designation for anonymity reasons.\n",
    "\n",
    "booking_changes\n",
    "Number of changes/amendments made to the booking from the moment the booking was entered on the PMS until the moment of check-in or cancellation\n",
    "\n",
    "deposit_type\n",
    "Indication on if the customer made a deposit to guarantee the booking. This variable can assume three categories: No Deposit – no deposit was made; Non Refund – a deposit was made in the value of the total stay cost; Refundable – a deposit was made with a value under the total cost of stay.\n",
    "\n",
    "agent\n",
    "ID of the travel agency that made the booking\n",
    "\n",
    "company\n",
    "ID of the company/entity that made the booking or responsible for paying the booking. ID is presented instead of designation for anonymity reasons\n",
    "\n",
    "days_in_waiting_list\n",
    "Number of days the booking was in the waiting list before it was confirmed to the customer\n",
    "\n",
    "customer_type\n",
    "Type of booking, assuming one of four categories: Contract - when the booking has an allotment or other type of contract associated to it; Group – when the booking is associated to a group; Transient – when the booking is not part of a group or contract, and is not associated to other transient booking; Transient-party – when the booking is transient, but is associated to at least other transient booking\n",
    "\n",
    "adr\n",
    "Average Daily Rate as defined by dividing the sum of all lodging transactions by the total number of staying nights\n",
    "\n",
    "required_car_parking_spaces\n",
    "Number of car parking spaces required by the customer\n",
    "\n",
    "total_of_special_requests\n",
    "Number of special requests made by the customer (e.g. twin bed or high floor)\n",
    "\n",
    "reservation_status\n",
    "Reservation last status, assuming one of three categories: Canceled – booking was canceled by the customer; Check-Out – customer has checked in but already departed; No-Show – customer did not check-in and did inform the hotel of the reason why\n",
    "\n",
    "reservation_status_date\n",
    "Date at which the last status was set. This variable can be used in conjunction with the ReservationStatus to understand when was the booking canceled or when did the customer checked-out of the hotel"
   ]
  },
  {
   "cell_type": "code",
   "execution_count": 443,
   "id": "98a762db",
   "metadata": {},
   "outputs": [
    {
     "data": {
      "text/html": [
       "<div>\n",
       "<style scoped>\n",
       "    .dataframe tbody tr th:only-of-type {\n",
       "        vertical-align: middle;\n",
       "    }\n",
       "\n",
       "    .dataframe tbody tr th {\n",
       "        vertical-align: top;\n",
       "    }\n",
       "\n",
       "    .dataframe thead th {\n",
       "        text-align: right;\n",
       "    }\n",
       "</style>\n",
       "<table border=\"1\" class=\"dataframe\">\n",
       "  <thead>\n",
       "    <tr style=\"text-align: right;\">\n",
       "      <th></th>\n",
       "      <th>hotel</th>\n",
       "      <th>is_canceled</th>\n",
       "      <th>lead_time</th>\n",
       "      <th>arrival_date_year</th>\n",
       "      <th>arrival_date_month</th>\n",
       "      <th>arrival_date_week_number</th>\n",
       "      <th>arrival_date_day_of_month</th>\n",
       "      <th>stays_in_weekend_nights</th>\n",
       "      <th>stays_in_week_nights</th>\n",
       "      <th>adults</th>\n",
       "      <th>...</th>\n",
       "      <th>customer_type</th>\n",
       "      <th>adr</th>\n",
       "      <th>required_car_parking_spaces</th>\n",
       "      <th>total_of_special_requests</th>\n",
       "      <th>reservation_status</th>\n",
       "      <th>reservation_status_date</th>\n",
       "      <th>name</th>\n",
       "      <th>email</th>\n",
       "      <th>phone-number</th>\n",
       "      <th>credit_card</th>\n",
       "    </tr>\n",
       "  </thead>\n",
       "  <tbody>\n",
       "    <tr>\n",
       "      <th>0</th>\n",
       "      <td>Resort Hotel</td>\n",
       "      <td>0</td>\n",
       "      <td>342</td>\n",
       "      <td>2015</td>\n",
       "      <td>July</td>\n",
       "      <td>27</td>\n",
       "      <td>1</td>\n",
       "      <td>0</td>\n",
       "      <td>0</td>\n",
       "      <td>2</td>\n",
       "      <td>...</td>\n",
       "      <td>Transient</td>\n",
       "      <td>0.0</td>\n",
       "      <td>0</td>\n",
       "      <td>0</td>\n",
       "      <td>Check-Out</td>\n",
       "      <td>2015-07-01</td>\n",
       "      <td>Ernest Barnes</td>\n",
       "      <td>Ernest.Barnes31@outlook.com</td>\n",
       "      <td>669-792-1661</td>\n",
       "      <td>************4322</td>\n",
       "    </tr>\n",
       "    <tr>\n",
       "      <th>1</th>\n",
       "      <td>Resort Hotel</td>\n",
       "      <td>0</td>\n",
       "      <td>737</td>\n",
       "      <td>2015</td>\n",
       "      <td>July</td>\n",
       "      <td>27</td>\n",
       "      <td>1</td>\n",
       "      <td>0</td>\n",
       "      <td>0</td>\n",
       "      <td>2</td>\n",
       "      <td>...</td>\n",
       "      <td>Transient</td>\n",
       "      <td>0.0</td>\n",
       "      <td>0</td>\n",
       "      <td>0</td>\n",
       "      <td>Check-Out</td>\n",
       "      <td>2015-07-01</td>\n",
       "      <td>Andrea Baker</td>\n",
       "      <td>Andrea_Baker94@aol.com</td>\n",
       "      <td>858-637-6955</td>\n",
       "      <td>************9157</td>\n",
       "    </tr>\n",
       "    <tr>\n",
       "      <th>2</th>\n",
       "      <td>Resort Hotel</td>\n",
       "      <td>0</td>\n",
       "      <td>7</td>\n",
       "      <td>2015</td>\n",
       "      <td>July</td>\n",
       "      <td>27</td>\n",
       "      <td>1</td>\n",
       "      <td>0</td>\n",
       "      <td>1</td>\n",
       "      <td>1</td>\n",
       "      <td>...</td>\n",
       "      <td>Transient</td>\n",
       "      <td>75.0</td>\n",
       "      <td>0</td>\n",
       "      <td>0</td>\n",
       "      <td>Check-Out</td>\n",
       "      <td>2015-07-02</td>\n",
       "      <td>Rebecca Parker</td>\n",
       "      <td>Rebecca_Parker@comcast.net</td>\n",
       "      <td>652-885-2745</td>\n",
       "      <td>************3734</td>\n",
       "    </tr>\n",
       "    <tr>\n",
       "      <th>3</th>\n",
       "      <td>Resort Hotel</td>\n",
       "      <td>0</td>\n",
       "      <td>13</td>\n",
       "      <td>2015</td>\n",
       "      <td>July</td>\n",
       "      <td>27</td>\n",
       "      <td>1</td>\n",
       "      <td>0</td>\n",
       "      <td>1</td>\n",
       "      <td>1</td>\n",
       "      <td>...</td>\n",
       "      <td>Transient</td>\n",
       "      <td>75.0</td>\n",
       "      <td>0</td>\n",
       "      <td>0</td>\n",
       "      <td>Check-Out</td>\n",
       "      <td>2015-07-02</td>\n",
       "      <td>Laura Murray</td>\n",
       "      <td>Laura_M@gmail.com</td>\n",
       "      <td>364-656-8427</td>\n",
       "      <td>************5677</td>\n",
       "    </tr>\n",
       "    <tr>\n",
       "      <th>4</th>\n",
       "      <td>Resort Hotel</td>\n",
       "      <td>0</td>\n",
       "      <td>14</td>\n",
       "      <td>2015</td>\n",
       "      <td>July</td>\n",
       "      <td>27</td>\n",
       "      <td>1</td>\n",
       "      <td>0</td>\n",
       "      <td>2</td>\n",
       "      <td>2</td>\n",
       "      <td>...</td>\n",
       "      <td>Transient</td>\n",
       "      <td>98.0</td>\n",
       "      <td>0</td>\n",
       "      <td>1</td>\n",
       "      <td>Check-Out</td>\n",
       "      <td>2015-07-03</td>\n",
       "      <td>Linda Hines</td>\n",
       "      <td>LHines@verizon.com</td>\n",
       "      <td>713-226-5883</td>\n",
       "      <td>************5498</td>\n",
       "    </tr>\n",
       "  </tbody>\n",
       "</table>\n",
       "<p>5 rows × 36 columns</p>\n",
       "</div>"
      ],
      "text/plain": [
       "          hotel  is_canceled  lead_time  arrival_date_year arrival_date_month  \\\n",
       "0  Resort Hotel            0        342               2015               July   \n",
       "1  Resort Hotel            0        737               2015               July   \n",
       "2  Resort Hotel            0          7               2015               July   \n",
       "3  Resort Hotel            0         13               2015               July   \n",
       "4  Resort Hotel            0         14               2015               July   \n",
       "\n",
       "   arrival_date_week_number  arrival_date_day_of_month  \\\n",
       "0                        27                          1   \n",
       "1                        27                          1   \n",
       "2                        27                          1   \n",
       "3                        27                          1   \n",
       "4                        27                          1   \n",
       "\n",
       "   stays_in_weekend_nights  stays_in_week_nights  adults  ...  customer_type  \\\n",
       "0                        0                     0       2  ...      Transient   \n",
       "1                        0                     0       2  ...      Transient   \n",
       "2                        0                     1       1  ...      Transient   \n",
       "3                        0                     1       1  ...      Transient   \n",
       "4                        0                     2       2  ...      Transient   \n",
       "\n",
       "    adr required_car_parking_spaces total_of_special_requests  \\\n",
       "0   0.0                           0                         0   \n",
       "1   0.0                           0                         0   \n",
       "2  75.0                           0                         0   \n",
       "3  75.0                           0                         0   \n",
       "4  98.0                           0                         1   \n",
       "\n",
       "  reservation_status reservation_status_date            name  \\\n",
       "0          Check-Out              2015-07-01   Ernest Barnes   \n",
       "1          Check-Out              2015-07-01    Andrea Baker   \n",
       "2          Check-Out              2015-07-02  Rebecca Parker   \n",
       "3          Check-Out              2015-07-02    Laura Murray   \n",
       "4          Check-Out              2015-07-03     Linda Hines   \n",
       "\n",
       "                         email  phone-number       credit_card  \n",
       "0  Ernest.Barnes31@outlook.com  669-792-1661  ************4322  \n",
       "1       Andrea_Baker94@aol.com  858-637-6955  ************9157  \n",
       "2   Rebecca_Parker@comcast.net  652-885-2745  ************3734  \n",
       "3            Laura_M@gmail.com  364-656-8427  ************5677  \n",
       "4           LHines@verizon.com  713-226-5883  ************5498  \n",
       "\n",
       "[5 rows x 36 columns]"
      ]
     },
     "execution_count": 443,
     "metadata": {},
     "output_type": "execute_result"
    }
   ],
   "source": [
    "hotel_df = pd.read_csv('hotel_booking.csv')\n",
    "hotel_df.head()"
   ]
  },
  {
   "cell_type": "code",
   "execution_count": 397,
   "id": "3375cfb5",
   "metadata": {},
   "outputs": [
    {
     "data": {
      "text/plain": [
       "is_canceled                       1.000000\n",
       "lead_time                         0.293123\n",
       "arrival_date_year                 0.016660\n",
       "arrival_date_week_number          0.008148\n",
       "arrival_date_day_of_month        -0.006130\n",
       "stays_in_weekend_nights          -0.001791\n",
       "stays_in_week_nights              0.024765\n",
       "adults                            0.060017\n",
       "children                          0.005048\n",
       "babies                           -0.032491\n",
       "is_repeated_guest                -0.084793\n",
       "previous_cancellations            0.110133\n",
       "previous_bookings_not_canceled   -0.057358\n",
       "booking_changes                  -0.144381\n",
       "agent                            -0.083114\n",
       "company                          -0.020642\n",
       "days_in_waiting_list              0.054186\n",
       "adr                               0.047557\n",
       "required_car_parking_spaces      -0.195498\n",
       "total_of_special_requests        -0.234658\n",
       "Name: is_canceled, dtype: float64"
      ]
     },
     "execution_count": 397,
     "metadata": {},
     "output_type": "execute_result"
    }
   ],
   "source": [
    "hotel_df.corr()['is_canceled']"
   ]
  },
  {
   "cell_type": "code",
   "execution_count": 398,
   "id": "bbb8fe24",
   "metadata": {},
   "outputs": [
    {
     "data": {
      "text/plain": [
       "<AxesSubplot:>"
      ]
     },
     "execution_count": 398,
     "metadata": {},
     "output_type": "execute_result"
    },
    {
     "data": {
      "image/png": "[encoded data removed]",
      "text/plain": [
       "<Figure size 432x288 with 2 Axes>"
      ]
     },
     "metadata": {
      "needs_background": "light"
     },
     "output_type": "display_data"
    }
   ],
   "source": [
    "import seaborn as sns\n",
    "corr = hotel_df.corr()\n",
    "sns.heatmap(corr, \n",
    "            xticklabels=corr.columns.values,\n",
    "            yticklabels=corr.columns.values)"
   ]
  },
  {
   "cell_type": "code",
   "execution_count": 399,
   "id": "c407d960",
   "metadata": {},
   "outputs": [
    {
     "name": "stdout",
     "output_type": "stream",
     "text": [
      "TA/TO        97870\n",
      "Direct       14645\n",
      "Corporate     6677\n",
      "GDS            193\n",
      "Undefined        5\n",
      "Name: distribution_channel, dtype: int64\n"
     ]
    },
    {
     "data": {
      "text/plain": [
       "Online TA        56477\n",
       "Offline TA/TO    24219\n",
       "Groups           19811\n",
       "Direct           12606\n",
       "Corporate         5295\n",
       "Complementary      743\n",
       "Aviation           237\n",
       "Undefined            2\n",
       "Name: market_segment, dtype: int64"
      ]
     },
     "execution_count": 399,
     "metadata": {},
     "output_type": "execute_result"
    }
   ],
   "source": [
    "print(hotel_df['distribution_channel'].value_counts())\n",
    "\n",
    "hotel_df['market_segment'].value_counts()\n",
    "\n",
    "#The columns distribution channel and market segment are giving different information about the bookings. \n",
    "#The market segment column has more information then the distribution channel column, so we keep it and \n",
    "#drop the other?"
   ]
  },
  {
   "cell_type": "code",
   "execution_count": 400,
   "id": "b2ecba0f",
   "metadata": {},
   "outputs": [
    {
     "data": {
      "text/plain": [
       "<AxesSubplot:>"
      ]
     },
     "execution_count": 400,
     "metadata": {},
     "output_type": "execute_result"
    },
    {
     "data": {
      "image/png": "[encoded data removed]",
      "text/plain": [
       "<Figure size 432x288 with 1 Axes>"
      ]
     },
     "metadata": {
      "needs_background": "light"
     },
     "output_type": "display_data"
    }
   ],
   "source": [
    "df2 = hotel_df[(hotel_df['reservation_status'] != 'Check-Out') & (hotel_df['reservation_status'] != 'No-Show')]\n",
    "df2 = df2[['reservation_status','reservation_status_date', 'arrival_date_year','arrival_date_month','arrival_date_day_of_month', 'lead_time']]\n",
    "df2['arrival_date'] = hotel_df['arrival_date_year'].astype(str) + '-' + hotel_df['arrival_date_month'].astype(str) + '-' + hotel_df['arrival_date_day_of_month'].astype(str)\n",
    "df2.drop(['arrival_date_year','arrival_date_month','arrival_date_day_of_month'],axis=1,inplace=True)\n",
    "df2['arrival_date'] = pd.to_datetime(df2['arrival_date'])\n",
    "df2['reservation_status_date'] = pd.to_datetime(df2['reservation_status_date'])\n",
    "df2['cancellation_before_arrival'] = df2['arrival_date'] - df2['reservation_status_date']\n",
    "df2['cancellation_before_arrival'].value_counts().plot()\n",
    "\n",
    "#this graph tells us that most cancellations were made closer to arrival date. "
   ]
  },
  {
   "cell_type": "code",
   "execution_count": 401,
   "id": "1ed7ca02",
   "metadata": {},
   "outputs": [
    {
     "data": {
      "text/plain": [
       "Check-Out    75166\n",
       "Canceled     43017\n",
       "No-Show       1207\n",
       "Name: reservation_status, dtype: int64"
      ]
     },
     "execution_count": 401,
     "metadata": {},
     "output_type": "execute_result"
    }
   ],
   "source": [
    "hotel_df['reservation_status'].value_counts()"
   ]
  },
  {
   "cell_type": "code",
   "execution_count": 451,
   "id": "e6594201",
   "metadata": {},
   "outputs": [
    {
     "data": {
      "text/plain": [
       "283"
      ]
     },
     "execution_count": 451,
     "metadata": {},
     "output_type": "execute_result"
    }
   ],
   "source": [
    "sum(hotel_df['agent'].value_counts() >1)"
   ]
  },
  {
   "cell_type": "code",
   "execution_count": 402,
   "id": "a71c571b",
   "metadata": {},
   "outputs": [
    {
     "data": {
      "text/plain": [
       "hotel                             Resort Hotel\n",
       "is_canceled                                  0\n",
       "lead_time                                  342\n",
       "arrival_date_year                         2015\n",
       "arrival_date_month                        July\n",
       "arrival_date_week_number                    27\n",
       "arrival_date_day_of_month                    1\n",
       "stays_in_weekend_nights                      0\n",
       "stays_in_week_nights                         0\n",
       "adults                                       2\n",
       "children                                   0.0\n",
       "babies                                       0\n",
       "meal                                        BB\n",
       "country                                    PRT\n",
       "market_segment                          Direct\n",
       "is_repeated_guest                            0\n",
       "previous_cancellations                       0\n",
       "previous_bookings_not_canceled               0\n",
       "reserved_room_type                           C\n",
       "assigned_room_type                           C\n",
       "booking_changes                              3\n",
       "deposit_type                        No Deposit\n",
       "days_in_waiting_list                         0\n",
       "customer_type                        Transient\n",
       "adr                                        0.0\n",
       "required_car_parking_spaces                  0\n",
       "total_of_special_requests                    0\n",
       "Name: 0, dtype: object"
      ]
     },
     "execution_count": 402,
     "metadata": {},
     "output_type": "execute_result"
    }
   ],
   "source": [
    "#information in agent is captured in the distribution_channel and market_segment columns\n",
    "#company column has a lot of NA values ~80% of the dataset\n",
    "#Values in the name, email, phone-number, credit card column are mostly unique and will not help in prediction\n",
    "#reservation status is highly correlated with the is_canceled column. We will count the no-show as not canceled. \n",
    "#the date at which the reservation status is captured by the reservation_status_date column. We cannot use that \n",
    "#column since it has information that one will have after making the prediction. \n",
    "hotel_df = hotel_df.drop(['name','email','phone-number', 'credit_card','company', 'agent', 'reservation_status','reservation_status_date', 'distribution_channel'], axis=1)\n",
    "\n",
    "# Print out the first line\n",
    "hotel_df.iloc[0]"
   ]
  },
  {
   "cell_type": "markdown",
   "id": "2e9878e7",
   "metadata": {},
   "source": [
    "## Data Exploration"
   ]
  },
  {
   "cell_type": "code",
   "execution_count": 403,
   "id": "a6629b66",
   "metadata": {},
   "outputs": [
    {
     "name": "stdout",
     "output_type": "stream",
     "text": [
      "<class 'pandas.core.frame.DataFrame'>\n",
      "RangeIndex: 119390 entries, 0 to 119389\n",
      "Data columns (total 27 columns):\n",
      " #   Column                          Non-Null Count   Dtype  \n",
      "---  ------                          --------------   -----  \n",
      " 0   hotel                           119390 non-null  object \n",
      " 1   is_canceled                     119390 non-null  int64  \n",
      " 2   lead_time                       119390 non-null  int64  \n",
      " 3   arrival_date_year               119390 non-null  int64  \n",
      " 4   arrival_date_month              119390 non-null  object \n",
      " 5   arrival_date_week_number        119390 non-null  int64  \n",
      " 6   arrival_date_day_of_month       119390 non-null  int64  \n",
      " 7   stays_in_weekend_nights         119390 non-null  int64  \n",
      " 8   stays_in_week_nights            119390 non-null  int64  \n",
      " 9   adults                          119390 non-null  int64  \n",
      " 10  children                        119386 non-null  float64\n",
      " 11  babies                          119390 non-null  int64  \n",
      " 12  meal                            119390 non-null  object \n",
      " 13  country                         118902 non-null  object \n",
      " 14  market_segment                  119390 non-null  object \n",
      " 15  is_repeated_guest               119390 non-null  int64  \n",
      " 16  previous_cancellations          119390 non-null  int64  \n",
      " 17  previous_bookings_not_canceled  119390 non-null  int64  \n",
      " 18  reserved_room_type              119390 non-null  object \n",
      " 19  assigned_room_type              119390 non-null  object \n",
      " 20  booking_changes                 119390 non-null  int64  \n",
      " 21  deposit_type                    119390 non-null  object \n",
      " 22  days_in_waiting_list            119390 non-null  int64  \n",
      " 23  customer_type                   119390 non-null  object \n",
      " 24  adr                             119390 non-null  float64\n",
      " 25  required_car_parking_spaces     119390 non-null  int64  \n",
      " 26  total_of_special_requests       119390 non-null  int64  \n",
      "dtypes: float64(2), int64(16), object(9)\n",
      "memory usage: 24.6+ MB\n"
     ]
    }
   ],
   "source": [
    "hotel_df.info()\n",
    "#country has some missing values\n",
    "#keep or drop? "
   ]
  },
  {
   "cell_type": "code",
   "execution_count": 404,
   "id": "ed5fab96",
   "metadata": {},
   "outputs": [
    {
     "name": "stdout",
     "output_type": "stream",
     "text": [
      "hotel\n",
      "['Resort Hotel' 'City Hotel']\n",
      "is_canceled\n",
      "[0 1]\n",
      "lead_time\n",
      "[342 737   7  13  14   0   9  85  75  23  35  68  18  37  12  72 127  78\n",
      "  48  60  77  99 118  95  96  69  45  40  15  36  43  70  16 107  47 113\n",
      "  90  50  93  76   3   1  10   5  17  51  71  63  62 101   2  81 368 364\n",
      " 324  79  21 109 102   4  98  92  26  73 115  86  52  29  30  33  32   8\n",
      " 100  44  80  97  64  39  34  27  82  94 110 111  84  66 104  28 258 112\n",
      "  65  67  55  88  54 292  83 105 280 394  24 103 366 249  22  91  11 108\n",
      " 106  31  87  41 304 117  59  53  58 116  42 321  38  56  49 317   6  57\n",
      "  19  25 315 123  46  89  61 312 299 130  74 298 119  20 286 136 129 124\n",
      " 327 131 460 140 114 139 122 137 126 120 128 135 150 143 151 132 125 157\n",
      " 147 138 156 164 346 159 160 161 333 381 149 154 297 163 314 155 323 340\n",
      " 356 142 328 144 336 248 302 175 344 382 146 170 166 338 167 310 148 165\n",
      " 172 171 145 121 178 305 173 152 354 347 158 185 349 183 352 177 200 192\n",
      " 361 207 174 330 134 350 334 283 153 197 133 241 193 235 194 261 260 216\n",
      " 169 209 238 215 141 189 187 223 284 214 202 211 168 230 203 188 232 709\n",
      " 219 162 196 190 259 228 176 250 201 186 199 180 206 205 224 222 182 210\n",
      " 275 212 229 218 208 191 181 179 246 255 226 288 253 252 262 236 256 234\n",
      " 254 468 213 237 198 195 239 263 265 274 217 220 307 221 233 257 227 276\n",
      " 225 264 311 277 204 290 266 270 294 319 282 251 322 291 269 240 271 184\n",
      " 231 268 247 273 300 301 267 244 306 293 309 272 242 295 285 243 308 398\n",
      " 303 245 424 279 331 281 339 434 357 325 329 278 332 343 345 360 348 367\n",
      " 353 373 374 406 400 326 379 399 316 341 320 385 355 363 358 296 422 390\n",
      " 335 370 376 375 397 289 542 403 383 384 359 393 337 362 365 435 386 378\n",
      " 313 351 287 471 462 411 450 318 372 371 454 532 445 389 388 407 443 437\n",
      " 451 391 405 412 419 420 426 433 440 429 418 447 461 605 457 475 464 482\n",
      " 626 489 496 503 510 517 524 531 538 545 552 559 566 573 580 587 594 601\n",
      " 608 615 622 629 396 410 395 423 408 409 448 465 387 414 476 479 467 490\n",
      " 493 478 504 507 458 518 521 377 444 380 463]\n",
      "arrival_date_year\n",
      "[2015 2016 2017]\n",
      "arrival_date_month\n",
      "['July' 'August' 'September' 'October' 'November' 'December' 'January'\n",
      " 'February' 'March' 'April' 'May' 'June']\n",
      "arrival_date_week_number\n",
      "[27 28 29 30 31 32 33 34 35 36 37 38 39 40 41 42 43 44 45 46 47 48 49 50\n",
      " 51 52 53  1  2  3  4  5  6  7  8  9 10 11 12 13 14 15 16 17 18 19 20 21\n",
      " 22 23 24 25 26]\n",
      "arrival_date_day_of_month\n",
      "[ 1  2  3  4  5  6  7  8  9 10 11 12 13 14 15 16 17 18 19 20 21 22 23 24\n",
      " 25 26 27 28 29 30 31]\n",
      "stays_in_weekend_nights\n",
      "[ 0  1  2  4  3  6 13  8  5  7 12  9 16 18 19 10 14]\n",
      "stays_in_week_nights\n",
      "[ 0  1  2  3  4  5 10 11  8  6  7 15  9 12 33 20 14 16 21 13 30 19 24 40\n",
      " 22 42 50 25 17 32 26 18 34 35 41]\n",
      "adults\n",
      "[ 2  1  3  4 40 26 50 27 55  0 20  6  5 10]\n",
      "children\n",
      "[ 0.  1.  2. 10.  3. nan]\n",
      "babies\n",
      "[ 0  1  2 10  9]\n",
      "meal\n",
      "['BB' 'FB' 'HB' 'SC' 'Undefined']\n",
      "country\n",
      "['PRT' 'GBR' 'USA' 'ESP' 'IRL' 'FRA' nan 'ROU' 'NOR' 'OMN' 'ARG' 'POL'\n",
      " 'DEU' 'BEL' 'CHE' 'CN' 'GRC' 'ITA' 'NLD' 'DNK' 'RUS' 'SWE' 'AUS' 'EST'\n",
      " 'CZE' 'BRA' 'FIN' 'MOZ' 'BWA' 'LUX' 'SVN' 'ALB' 'IND' 'CHN' 'MEX' 'MAR'\n",
      " 'UKR' 'SMR' 'LVA' 'PRI' 'SRB' 'CHL' 'AUT' 'BLR' 'LTU' 'TUR' 'ZAF' 'AGO'\n",
      " 'ISR' 'CYM' 'ZMB' 'CPV' 'ZWE' 'DZA' 'KOR' 'CRI' 'HUN' 'ARE' 'TUN' 'JAM'\n",
      " 'HRV' 'HKG' 'IRN' 'GEO' 'AND' 'GIB' 'URY' 'JEY' 'CAF' 'CYP' 'COL' 'GGY'\n",
      " 'KWT' 'NGA' 'MDV' 'VEN' 'SVK' 'FJI' 'KAZ' 'PAK' 'IDN' 'LBN' 'PHL' 'SEN'\n",
      " 'SYC' 'AZE' 'BHR' 'NZL' 'THA' 'DOM' 'MKD' 'MYS' 'ARM' 'JPN' 'LKA' 'CUB'\n",
      " 'CMR' 'BIH' 'MUS' 'COM' 'SUR' 'UGA' 'BGR' 'CIV' 'JOR' 'SYR' 'SGP' 'BDI'\n",
      " 'SAU' 'VNM' 'PLW' 'QAT' 'EGY' 'PER' 'MLT' 'MWI' 'ECU' 'MDG' 'ISL' 'UZB'\n",
      " 'NPL' 'BHS' 'MAC' 'TGO' 'TWN' 'DJI' 'STP' 'KNA' 'ETH' 'IRQ' 'HND' 'RWA'\n",
      " 'KHM' 'MCO' 'BGD' 'IMN' 'TJK' 'NIC' 'BEN' 'VGB' 'TZA' 'GAB' 'GHA' 'TMP'\n",
      " 'GLP' 'KEN' 'LIE' 'GNB' 'MNE' 'UMI' 'MYT' 'FRO' 'MMR' 'PAN' 'BFA' 'LBY'\n",
      " 'MLI' 'NAM' 'BOL' 'PRY' 'BRB' 'ABW' 'AIA' 'SLV' 'DMA' 'PYF' 'GUY' 'LCA'\n",
      " 'ATA' 'GTM' 'ASM' 'MRT' 'NCL' 'KIR' 'SDN' 'ATF' 'SLE' 'LAO']\n",
      "market_segment\n",
      "['Direct' 'Corporate' 'Online TA' 'Offline TA/TO' 'Complementary' 'Groups'\n",
      " 'Undefined' 'Aviation']\n",
      "is_repeated_guest\n",
      "[0 1]\n",
      "previous_cancellations\n",
      "[ 0  1  2  3 26 25 14  4 24 19  5 21  6 13 11]\n",
      "previous_bookings_not_canceled\n",
      "[ 0  1  2  3  4  5  6  7  8  9 10 11 12 13 14 15 16 17 18 20 21 22 23 24\n",
      " 25 27 28 29 30 19 26 31 32 33 34 35 36 37 38 39 40 41 42 43 44 45 46 47\n",
      " 48 49 50 51 52 53 54 55 56 57 58 59 60 61 62 63 64 65 66 67 68 69 70 71\n",
      " 72]\n",
      "reserved_room_type\n",
      "['C' 'A' 'D' 'E' 'G' 'F' 'H' 'L' 'P' 'B']\n",
      "assigned_room_type\n",
      "['C' 'A' 'D' 'E' 'G' 'F' 'I' 'B' 'H' 'P' 'L' 'K']\n",
      "booking_changes\n",
      "[ 3  4  0  1  2  5 17  6  8  7 10 16  9 13 12 20 14 15 11 21 18]\n",
      "deposit_type\n",
      "['No Deposit' 'Refundable' 'Non Refund']\n",
      "days_in_waiting_list\n",
      "[  0  50  47  65 122  75 101 150 125  14  60  34 100  22 121  61  39   5\n",
      "   1   8 107  43  52   2  11 142 116  13  44  97  83   4 113  18  20 185\n",
      "  93 109   6  37 105 154  64  99  38  48  33  77  21  80  59  40  58  89\n",
      "  53  49  69  87  91  57 111  79  98  85  63  15   3  41 224  31  56 187\n",
      " 176  71  55  96 236 259 207 215 160 120  30  32  27  62  24 108 147 379\n",
      "  70  35 178 330 223 174 162 391  68 193  10  76  16  28   9 165  17  25\n",
      "  46   7  84 175 183  23 117  12  54  26  73  45  19  42  72  81  92  74\n",
      " 167  36]\n",
      "customer_type\n",
      "['Transient' 'Contract' 'Transient-Party' 'Group']\n",
      "adr\n",
      "[  0.    75.    98.   ... 266.75 209.25 157.71]\n",
      "required_car_parking_spaces\n",
      "[0 1 2 8 3]\n",
      "total_of_special_requests\n",
      "[0 1 3 2 4 5]\n"
     ]
    }
   ],
   "source": [
    "# Look at the unqiue values for each column\n",
    "for col in hotel_df.columns:\n",
    "    print(col)\n",
    "    print(hotel_df[col].unique())"
   ]
  },
  {
   "cell_type": "code",
   "execution_count": 405,
   "id": "4784c732",
   "metadata": {},
   "outputs": [
    {
     "data": {
      "text/plain": [
       "(array([40060.,     0.,     0.,     0.,     0.,     0.,     0.,     0.,\n",
       "            0., 79330.]),\n",
       " array([0. , 0.1, 0.2, 0.3, 0.4, 0.5, 0.6, 0.7, 0.8, 0.9, 1. ]),\n",
       " <BarContainer object of 10 artists>)"
      ]
     },
     "execution_count": 405,
     "metadata": {},
     "output_type": "execute_result"
    },
    {
     "data": {
      "image/png": "[encoded data removed]",
      "text/plain": [
       "<Figure size 432x288 with 1 Axes>"
      ]
     },
     "metadata": {
      "needs_background": "light"
     },
     "output_type": "display_data"
    }
   ],
   "source": [
    "hist(hotel_df['hotel'])"
   ]
  },
  {
   "cell_type": "code",
   "execution_count": 406,
   "id": "964c0dd2",
   "metadata": {},
   "outputs": [
    {
     "data": {
      "text/plain": [
       "0    75166\n",
       "1    44224\n",
       "Name: is_canceled, dtype: int64"
      ]
     },
     "execution_count": 406,
     "metadata": {},
     "output_type": "execute_result"
    }
   ],
   "source": [
    "hotel_df['is_canceled'].value_counts()"
   ]
  },
  {
   "cell_type": "code",
   "execution_count": 407,
   "id": "ba2afe49",
   "metadata": {},
   "outputs": [
    {
     "data": {
      "text/plain": [
       "<AxesSubplot:>"
      ]
     },
     "execution_count": 407,
     "metadata": {},
     "output_type": "execute_result"
    },
    {
     "data": {
      "image/png": "[encoded data removed]",
      "text/plain": [
       "<Figure size 432x288 with 1 Axes>"
      ]
     },
     "metadata": {
      "needs_background": "light"
     },
     "output_type": "display_data"
    }
   ],
   "source": [
    "hotel_df['arrival_date_year'].value_counts().plot(kind = 'bar')\n",
    "#2016 was a popular year and 2015 had the lowest number of bookings. \n",
    "#Seems like the hotels had average number of bookings in 2017."
   ]
  },
  {
   "cell_type": "code",
   "execution_count": 408,
   "id": "c623f9a7",
   "metadata": {},
   "outputs": [
    {
     "data": {
      "text/plain": [
       "<AxesSubplot:xlabel='arrival_date_year'>"
      ]
     },
     "execution_count": 408,
     "metadata": {},
     "output_type": "execute_result"
    },
    {
     "data": {
      "image/png": "[encoded data removed]",
      "text/plain": [
       "<Figure size 432x288 with 1 Axes>"
      ]
     },
     "metadata": {
      "needs_background": "light"
     },
     "output_type": "display_data"
    }
   ],
   "source": [
    "pd.pivot_table(index='is_canceled',columns='arrival_date_year',values='lead_time',aggfunc = 'count',data=hotel_df).T.plot(kind='bar')"
   ]
  },
  {
   "cell_type": "code",
   "execution_count": 409,
   "id": "ea750811",
   "metadata": {},
   "outputs": [
    {
     "data": {
      "text/plain": [
       "<AxesSubplot:>"
      ]
     },
     "execution_count": 409,
     "metadata": {},
     "output_type": "execute_result"
    },
    {
     "data": {
      "image/png": "[encoded data removed]",
      "text/plain": [
       "<Figure size 432x288 with 1 Axes>"
      ]
     },
     "metadata": {
      "needs_background": "light"
     },
     "output_type": "display_data"
    }
   ],
   "source": [
    "hotel_df['arrival_date_month'].value_counts().plot(kind = 'bar')"
   ]
  },
  {
   "cell_type": "code",
   "execution_count": 410,
   "id": "73962448",
   "metadata": {},
   "outputs": [
    {
     "data": {
      "text/plain": [
       "<AxesSubplot:xlabel='arrival_date_month'>"
      ]
     },
     "execution_count": 410,
     "metadata": {},
     "output_type": "execute_result"
    },
    {
     "data": {
      "image/png": "[encoded data removed]",
      "text/plain": [
       "<Figure size 432x288 with 1 Axes>"
      ]
     },
     "metadata": {
      "needs_background": "light"
     },
     "output_type": "display_data"
    }
   ],
   "source": [
    "#Cancellations by month, arranged in increasing proportion of cancellations\n",
    "y = pd.pivot_table(index='is_canceled',columns='arrival_date_month',values='lead_time',aggfunc = 'count',data=hotel_df).T\n",
    "y['ratio'] = y[1]/(y[0]+y[1])\n",
    "y = y.sort_values(by='ratio')\n",
    "y[[0,1]].plot(kind='bar')"
   ]
  },
  {
   "cell_type": "code",
   "execution_count": 411,
   "id": "155a9523",
   "metadata": {},
   "outputs": [
    {
     "data": {
      "text/plain": [
       "Index(['hotel', 'is_canceled', 'lead_time', 'arrival_date_year',\n",
       "       'arrival_date_month', 'arrival_date_week_number',\n",
       "       'arrival_date_day_of_month', 'stays_in_weekend_nights',\n",
       "       'stays_in_week_nights', 'adults', 'children', 'babies', 'meal',\n",
       "       'country', 'market_segment', 'is_repeated_guest',\n",
       "       'previous_cancellations', 'previous_bookings_not_canceled',\n",
       "       'reserved_room_type', 'assigned_room_type', 'booking_changes',\n",
       "       'deposit_type', 'days_in_waiting_list', 'customer_type', 'adr',\n",
       "       'required_car_parking_spaces', 'total_of_special_requests'],\n",
       "      dtype='object')"
      ]
     },
     "execution_count": 411,
     "metadata": {},
     "output_type": "execute_result"
    }
   ],
   "source": [
    "hotel_df.columns"
   ]
  },
  {
   "cell_type": "code",
   "execution_count": 412,
   "id": "13f6dc2d",
   "metadata": {},
   "outputs": [
    {
     "data": {
      "text/html": [
       "<div>\n",
       "<style scoped>\n",
       "    .dataframe tbody tr th:only-of-type {\n",
       "        vertical-align: middle;\n",
       "    }\n",
       "\n",
       "    .dataframe tbody tr th {\n",
       "        vertical-align: top;\n",
       "    }\n",
       "\n",
       "    .dataframe thead th {\n",
       "        text-align: right;\n",
       "    }\n",
       "</style>\n",
       "<table border=\"1\" class=\"dataframe\">\n",
       "  <thead>\n",
       "    <tr style=\"text-align: right;\">\n",
       "      <th>hotel</th>\n",
       "      <th>City Hotel</th>\n",
       "      <th>Resort Hotel</th>\n",
       "    </tr>\n",
       "    <tr>\n",
       "      <th>is_canceled</th>\n",
       "      <th></th>\n",
       "      <th></th>\n",
       "    </tr>\n",
       "  </thead>\n",
       "  <tbody>\n",
       "    <tr>\n",
       "      <th>0</th>\n",
       "      <td>46228</td>\n",
       "      <td>28938</td>\n",
       "    </tr>\n",
       "    <tr>\n",
       "      <th>1</th>\n",
       "      <td>33102</td>\n",
       "      <td>11122</td>\n",
       "    </tr>\n",
       "  </tbody>\n",
       "</table>\n",
       "</div>"
      ],
      "text/plain": [
       "hotel        City Hotel  Resort Hotel\n",
       "is_canceled                          \n",
       "0                 46228         28938\n",
       "1                 33102         11122"
      ]
     },
     "execution_count": 412,
     "metadata": {},
     "output_type": "execute_result"
    }
   ],
   "source": [
    "pd.pivot_table(index='is_canceled',columns='hotel',values ='lead_time',aggfunc='count',data=hotel_df)"
   ]
  },
  {
   "cell_type": "code",
   "execution_count": 413,
   "id": "9dbe3104",
   "metadata": {},
   "outputs": [
    {
     "data": {
      "text/html": [
       "<div>\n",
       "<style scoped>\n",
       "    .dataframe tbody tr th:only-of-type {\n",
       "        vertical-align: middle;\n",
       "    }\n",
       "\n",
       "    .dataframe tbody tr th {\n",
       "        vertical-align: top;\n",
       "    }\n",
       "\n",
       "    .dataframe thead th {\n",
       "        text-align: right;\n",
       "    }\n",
       "</style>\n",
       "<table border=\"1\" class=\"dataframe\">\n",
       "  <thead>\n",
       "    <tr style=\"text-align: right;\">\n",
       "      <th>is_canceled</th>\n",
       "      <th>0</th>\n",
       "      <th>1</th>\n",
       "    </tr>\n",
       "    <tr>\n",
       "      <th>hotel</th>\n",
       "      <th></th>\n",
       "      <th></th>\n",
       "    </tr>\n",
       "  </thead>\n",
       "  <tbody>\n",
       "    <tr>\n",
       "      <th>City Hotel</th>\n",
       "      <td>46228</td>\n",
       "      <td>33102</td>\n",
       "    </tr>\n",
       "    <tr>\n",
       "      <th>Resort Hotel</th>\n",
       "      <td>28938</td>\n",
       "      <td>11122</td>\n",
       "    </tr>\n",
       "  </tbody>\n",
       "</table>\n",
       "</div>"
      ],
      "text/plain": [
       "is_canceled       0      1\n",
       "hotel                     \n",
       "City Hotel    46228  33102\n",
       "Resort Hotel  28938  11122"
      ]
     },
     "execution_count": 413,
     "metadata": {},
     "output_type": "execute_result"
    }
   ],
   "source": [
    "#cancellation by hotel - more cancellations in city hotel than resort hotel\n",
    "pd.pivot_table(index='hotel', columns='is_canceled', values='lead_time', data=hotel_df, aggfunc='count')"
   ]
  },
  {
   "cell_type": "code",
   "execution_count": 414,
   "id": "68f05656",
   "metadata": {},
   "outputs": [
    {
     "data": {
      "text/html": [
       "<div>\n",
       "<style scoped>\n",
       "    .dataframe tbody tr th:only-of-type {\n",
       "        vertical-align: middle;\n",
       "    }\n",
       "\n",
       "    .dataframe tbody tr th {\n",
       "        vertical-align: top;\n",
       "    }\n",
       "\n",
       "    .dataframe thead th {\n",
       "        text-align: right;\n",
       "    }\n",
       "</style>\n",
       "<table border=\"1\" class=\"dataframe\">\n",
       "  <thead>\n",
       "    <tr style=\"text-align: right;\">\n",
       "      <th>hotel</th>\n",
       "      <th>City Hotel</th>\n",
       "      <th>Resort Hotel</th>\n",
       "    </tr>\n",
       "    <tr>\n",
       "      <th>is_canceled</th>\n",
       "      <th></th>\n",
       "      <th></th>\n",
       "    </tr>\n",
       "  </thead>\n",
       "  <tbody>\n",
       "    <tr>\n",
       "      <th>0</th>\n",
       "      <td>80.702734</td>\n",
       "      <td>78.837618</td>\n",
       "    </tr>\n",
       "    <tr>\n",
       "      <th>1</th>\n",
       "      <td>150.281222</td>\n",
       "      <td>128.680543</td>\n",
       "    </tr>\n",
       "  </tbody>\n",
       "</table>\n",
       "</div>"
      ],
      "text/plain": [
       "hotel        City Hotel  Resort Hotel\n",
       "is_canceled                          \n",
       "0             80.702734     78.837618\n",
       "1            150.281222    128.680543"
      ]
     },
     "execution_count": 414,
     "metadata": {},
     "output_type": "execute_result"
    }
   ],
   "source": [
    "#cancellation by hotel and the values represent mean lead time - greater lead time on average for cancellations\n",
    "pd.pivot_table(index='is_canceled', columns='hotel', values='lead_time',aggfunc = 'mean',data=hotel_df)"
   ]
  },
  {
   "cell_type": "code",
   "execution_count": 415,
   "id": "92cb0ba3",
   "metadata": {},
   "outputs": [
    {
     "data": {
      "text/html": [
       "<div>\n",
       "<style scoped>\n",
       "    .dataframe tbody tr th:only-of-type {\n",
       "        vertical-align: middle;\n",
       "    }\n",
       "\n",
       "    .dataframe tbody tr th {\n",
       "        vertical-align: top;\n",
       "    }\n",
       "\n",
       "    .dataframe thead th {\n",
       "        text-align: right;\n",
       "    }\n",
       "</style>\n",
       "<table border=\"1\" class=\"dataframe\">\n",
       "  <thead>\n",
       "    <tr style=\"text-align: right;\">\n",
       "      <th></th>\n",
       "      <th>is_canceled</th>\n",
       "      <th>0</th>\n",
       "      <th>1</th>\n",
       "    </tr>\n",
       "    <tr>\n",
       "      <th>hotel</th>\n",
       "      <th>is_repeated_guest</th>\n",
       "      <th></th>\n",
       "      <th></th>\n",
       "    </tr>\n",
       "  </thead>\n",
       "  <tbody>\n",
       "    <tr>\n",
       "      <th rowspan=\"2\" valign=\"top\">City Hotel</th>\n",
       "      <th>0</th>\n",
       "      <td>44637</td>\n",
       "      <td>32661</td>\n",
       "    </tr>\n",
       "    <tr>\n",
       "      <th>1</th>\n",
       "      <td>1591</td>\n",
       "      <td>441</td>\n",
       "    </tr>\n",
       "    <tr>\n",
       "      <th rowspan=\"2\" valign=\"top\">Resort Hotel</th>\n",
       "      <th>0</th>\n",
       "      <td>27271</td>\n",
       "      <td>11011</td>\n",
       "    </tr>\n",
       "    <tr>\n",
       "      <th>1</th>\n",
       "      <td>1667</td>\n",
       "      <td>111</td>\n",
       "    </tr>\n",
       "  </tbody>\n",
       "</table>\n",
       "</div>"
      ],
      "text/plain": [
       "is_canceled                         0      1\n",
       "hotel        is_repeated_guest              \n",
       "City Hotel   0                  44637  32661\n",
       "             1                   1591    441\n",
       "Resort Hotel 0                  27271  11011\n",
       "             1                   1667    111"
      ]
     },
     "execution_count": 415,
     "metadata": {},
     "output_type": "execute_result"
    }
   ],
   "source": [
    "#cancellation by hotel and whether the guest is a repeating guest or not - higher percentage of cancellations in first timers\n",
    "pd.pivot_table(index=['hotel','is_repeated_guest'], columns='is_canceled', values='lead_time', data=hotel_df, aggfunc='count')"
   ]
  },
  {
   "cell_type": "code",
   "execution_count": 416,
   "id": "4601746a",
   "metadata": {},
   "outputs": [
    {
     "data": {
      "text/html": [
       "<div>\n",
       "<style scoped>\n",
       "    .dataframe tbody tr th:only-of-type {\n",
       "        vertical-align: middle;\n",
       "    }\n",
       "\n",
       "    .dataframe tbody tr th {\n",
       "        vertical-align: top;\n",
       "    }\n",
       "\n",
       "    .dataframe thead th {\n",
       "        text-align: right;\n",
       "    }\n",
       "</style>\n",
       "<table border=\"1\" class=\"dataframe\">\n",
       "  <thead>\n",
       "    <tr style=\"text-align: right;\">\n",
       "      <th>is_canceled</th>\n",
       "      <th>0</th>\n",
       "      <th>1</th>\n",
       "    </tr>\n",
       "    <tr>\n",
       "      <th>market_segment</th>\n",
       "      <th></th>\n",
       "      <th></th>\n",
       "    </tr>\n",
       "  </thead>\n",
       "  <tbody>\n",
       "    <tr>\n",
       "      <th>Aviation</th>\n",
       "      <td>185.0</td>\n",
       "      <td>52.0</td>\n",
       "    </tr>\n",
       "    <tr>\n",
       "      <th>Complementary</th>\n",
       "      <td>646.0</td>\n",
       "      <td>97.0</td>\n",
       "    </tr>\n",
       "    <tr>\n",
       "      <th>Corporate</th>\n",
       "      <td>4303.0</td>\n",
       "      <td>992.0</td>\n",
       "    </tr>\n",
       "    <tr>\n",
       "      <th>Direct</th>\n",
       "      <td>10672.0</td>\n",
       "      <td>1934.0</td>\n",
       "    </tr>\n",
       "    <tr>\n",
       "      <th>Groups</th>\n",
       "      <td>7714.0</td>\n",
       "      <td>12097.0</td>\n",
       "    </tr>\n",
       "    <tr>\n",
       "      <th>Offline TA/TO</th>\n",
       "      <td>15908.0</td>\n",
       "      <td>8311.0</td>\n",
       "    </tr>\n",
       "    <tr>\n",
       "      <th>Online TA</th>\n",
       "      <td>35738.0</td>\n",
       "      <td>20739.0</td>\n",
       "    </tr>\n",
       "    <tr>\n",
       "      <th>Undefined</th>\n",
       "      <td>NaN</td>\n",
       "      <td>2.0</td>\n",
       "    </tr>\n",
       "  </tbody>\n",
       "</table>\n",
       "</div>"
      ],
      "text/plain": [
       "is_canceled           0        1\n",
       "market_segment                  \n",
       "Aviation          185.0     52.0\n",
       "Complementary     646.0     97.0\n",
       "Corporate        4303.0    992.0\n",
       "Direct          10672.0   1934.0\n",
       "Groups           7714.0  12097.0\n",
       "Offline TA/TO   15908.0   8311.0\n",
       "Online TA       35738.0  20739.0\n",
       "Undefined           NaN      2.0"
      ]
     },
     "execution_count": 416,
     "metadata": {},
     "output_type": "execute_result"
    }
   ],
   "source": [
    "#very high cancellatoins when booked through TA/TO\n",
    "pd.pivot_table(index='market_segment', columns='is_canceled', values='lead_time', data=hotel_df, aggfunc='count')"
   ]
  },
  {
   "cell_type": "markdown",
   "id": "e16867ce",
   "metadata": {},
   "source": [
    "Groups and OTA channel have extremely high cancellation rate."
   ]
  },
  {
   "cell_type": "code",
   "execution_count": 417,
   "id": "9e736012",
   "metadata": {},
   "outputs": [
    {
     "data": {
      "text/html": [
       "<div>\n",
       "<style scoped>\n",
       "    .dataframe tbody tr th:only-of-type {\n",
       "        vertical-align: middle;\n",
       "    }\n",
       "\n",
       "    .dataframe tbody tr th {\n",
       "        vertical-align: top;\n",
       "    }\n",
       "\n",
       "    .dataframe thead th {\n",
       "        text-align: right;\n",
       "    }\n",
       "</style>\n",
       "<table border=\"1\" class=\"dataframe\">\n",
       "  <thead>\n",
       "    <tr style=\"text-align: right;\">\n",
       "      <th></th>\n",
       "      <th>is_canceled</th>\n",
       "      <th>0</th>\n",
       "      <th>1</th>\n",
       "    </tr>\n",
       "    <tr>\n",
       "      <th>market_segment</th>\n",
       "      <th>is_repeated_guest</th>\n",
       "      <th></th>\n",
       "      <th></th>\n",
       "    </tr>\n",
       "  </thead>\n",
       "  <tbody>\n",
       "    <tr>\n",
       "      <th rowspan=\"2\" valign=\"top\">Aviation</th>\n",
       "      <th>0</th>\n",
       "      <td>132.0</td>\n",
       "      <td>41.0</td>\n",
       "    </tr>\n",
       "    <tr>\n",
       "      <th>1</th>\n",
       "      <td>53.0</td>\n",
       "      <td>11.0</td>\n",
       "    </tr>\n",
       "    <tr>\n",
       "      <th rowspan=\"2\" valign=\"top\">Complementary</th>\n",
       "      <th>0</th>\n",
       "      <td>435.0</td>\n",
       "      <td>78.0</td>\n",
       "    </tr>\n",
       "    <tr>\n",
       "      <th>1</th>\n",
       "      <td>211.0</td>\n",
       "      <td>19.0</td>\n",
       "    </tr>\n",
       "    <tr>\n",
       "      <th rowspan=\"2\" valign=\"top\">Corporate</th>\n",
       "      <th>0</th>\n",
       "      <td>2924.0</td>\n",
       "      <td>897.0</td>\n",
       "    </tr>\n",
       "    <tr>\n",
       "      <th>1</th>\n",
       "      <td>1379.0</td>\n",
       "      <td>95.0</td>\n",
       "    </tr>\n",
       "    <tr>\n",
       "      <th rowspan=\"2\" valign=\"top\">Direct</th>\n",
       "      <th>0</th>\n",
       "      <td>9933.0</td>\n",
       "      <td>1877.0</td>\n",
       "    </tr>\n",
       "    <tr>\n",
       "      <th>1</th>\n",
       "      <td>739.0</td>\n",
       "      <td>57.0</td>\n",
       "    </tr>\n",
       "    <tr>\n",
       "      <th rowspan=\"2\" valign=\"top\">Groups</th>\n",
       "      <th>0</th>\n",
       "      <td>7668.0</td>\n",
       "      <td>11873.0</td>\n",
       "    </tr>\n",
       "    <tr>\n",
       "      <th>1</th>\n",
       "      <td>46.0</td>\n",
       "      <td>224.0</td>\n",
       "    </tr>\n",
       "    <tr>\n",
       "      <th rowspan=\"2\" valign=\"top\">Offline TA/TO</th>\n",
       "      <th>0</th>\n",
       "      <td>15624.0</td>\n",
       "      <td>8216.0</td>\n",
       "    </tr>\n",
       "    <tr>\n",
       "      <th>1</th>\n",
       "      <td>284.0</td>\n",
       "      <td>95.0</td>\n",
       "    </tr>\n",
       "    <tr>\n",
       "      <th rowspan=\"2\" valign=\"top\">Online TA</th>\n",
       "      <th>0</th>\n",
       "      <td>35192.0</td>\n",
       "      <td>20688.0</td>\n",
       "    </tr>\n",
       "    <tr>\n",
       "      <th>1</th>\n",
       "      <td>546.0</td>\n",
       "      <td>51.0</td>\n",
       "    </tr>\n",
       "    <tr>\n",
       "      <th>Undefined</th>\n",
       "      <th>0</th>\n",
       "      <td>NaN</td>\n",
       "      <td>2.0</td>\n",
       "    </tr>\n",
       "  </tbody>\n",
       "</table>\n",
       "</div>"
      ],
      "text/plain": [
       "is_canceled                             0        1\n",
       "market_segment is_repeated_guest                  \n",
       "Aviation       0                    132.0     41.0\n",
       "               1                     53.0     11.0\n",
       "Complementary  0                    435.0     78.0\n",
       "               1                    211.0     19.0\n",
       "Corporate      0                   2924.0    897.0\n",
       "               1                   1379.0     95.0\n",
       "Direct         0                   9933.0   1877.0\n",
       "               1                    739.0     57.0\n",
       "Groups         0                   7668.0  11873.0\n",
       "               1                     46.0    224.0\n",
       "Offline TA/TO  0                  15624.0   8216.0\n",
       "               1                    284.0     95.0\n",
       "Online TA      0                  35192.0  20688.0\n",
       "               1                    546.0     51.0\n",
       "Undefined      0                      NaN      2.0"
      ]
     },
     "execution_count": 417,
     "metadata": {},
     "output_type": "execute_result"
    }
   ],
   "source": [
    "pd.pivot_table(index=['market_segment','is_repeated_guest'], columns='is_canceled', values='lead_time', data=hotel_df, aggfunc='count')"
   ]
  },
  {
   "cell_type": "code",
   "execution_count": 418,
   "id": "fad409f2",
   "metadata": {},
   "outputs": [],
   "source": [
    "x = pd.pivot_table(index='children', columns='is_canceled', values='lead_time', data=hotel_df, aggfunc='count')\n",
    "x['ratio'] = x[1]/(x[1]+x[0])"
   ]
  },
  {
   "cell_type": "code",
   "execution_count": 419,
   "id": "c4286253",
   "metadata": {},
   "outputs": [
    {
     "data": {
      "text/plain": [
       "<AxesSubplot:xlabel='children', ylabel='proportion of cancellations'>"
      ]
     },
     "execution_count": 419,
     "metadata": {},
     "output_type": "execute_result"
    },
    {
     "data": {
      "image/png": "[encoded data removed]",
      "text/plain": [
       "<Figure size 432x288 with 1 Axes>"
      ]
     },
     "metadata": {
      "needs_background": "light"
     },
     "output_type": "display_data"
    }
   ],
   "source": [
    "x['ratio'].plot(kind='bar', ylabel = 'proportion of cancellations')"
   ]
  },
  {
   "cell_type": "code",
   "execution_count": 420,
   "id": "c33615c8",
   "metadata": {},
   "outputs": [
    {
     "data": {
      "text/html": [
       "<div>\n",
       "<style scoped>\n",
       "    .dataframe tbody tr th:only-of-type {\n",
       "        vertical-align: middle;\n",
       "    }\n",
       "\n",
       "    .dataframe tbody tr th {\n",
       "        vertical-align: top;\n",
       "    }\n",
       "\n",
       "    .dataframe thead th {\n",
       "        text-align: right;\n",
       "    }\n",
       "</style>\n",
       "<table border=\"1\" class=\"dataframe\">\n",
       "  <thead>\n",
       "    <tr style=\"text-align: right;\">\n",
       "      <th>arrival_date_month</th>\n",
       "      <th>April</th>\n",
       "      <th>August</th>\n",
       "      <th>December</th>\n",
       "      <th>February</th>\n",
       "      <th>January</th>\n",
       "      <th>July</th>\n",
       "      <th>June</th>\n",
       "      <th>March</th>\n",
       "      <th>May</th>\n",
       "      <th>November</th>\n",
       "      <th>October</th>\n",
       "      <th>September</th>\n",
       "    </tr>\n",
       "    <tr>\n",
       "      <th>is_canceled</th>\n",
       "      <th></th>\n",
       "      <th></th>\n",
       "      <th></th>\n",
       "      <th></th>\n",
       "      <th></th>\n",
       "      <th></th>\n",
       "      <th></th>\n",
       "      <th></th>\n",
       "      <th></th>\n",
       "      <th></th>\n",
       "      <th></th>\n",
       "      <th></th>\n",
       "    </tr>\n",
       "  </thead>\n",
       "  <tbody>\n",
       "    <tr>\n",
       "      <th>0</th>\n",
       "      <td>0.592028</td>\n",
       "      <td>0.622469</td>\n",
       "      <td>0.650295</td>\n",
       "      <td>0.66584</td>\n",
       "      <td>0.695227</td>\n",
       "      <td>0.625464</td>\n",
       "      <td>0.585428</td>\n",
       "      <td>0.678477</td>\n",
       "      <td>0.603342</td>\n",
       "      <td>0.687666</td>\n",
       "      <td>0.619534</td>\n",
       "      <td>0.608298</td>\n",
       "    </tr>\n",
       "    <tr>\n",
       "      <th>1</th>\n",
       "      <td>0.407972</td>\n",
       "      <td>0.377531</td>\n",
       "      <td>0.349705</td>\n",
       "      <td>0.33416</td>\n",
       "      <td>0.304773</td>\n",
       "      <td>0.374536</td>\n",
       "      <td>0.414572</td>\n",
       "      <td>0.321523</td>\n",
       "      <td>0.396658</td>\n",
       "      <td>0.312334</td>\n",
       "      <td>0.380466</td>\n",
       "      <td>0.391702</td>\n",
       "    </tr>\n",
       "  </tbody>\n",
       "</table>\n",
       "</div>"
      ],
      "text/plain": [
       "arrival_date_month     April    August  December  February   January  \\\n",
       "is_canceled                                                            \n",
       "0                   0.592028  0.622469  0.650295   0.66584  0.695227   \n",
       "1                   0.407972  0.377531  0.349705   0.33416  0.304773   \n",
       "\n",
       "arrival_date_month      July      June     March       May  November  \\\n",
       "is_canceled                                                            \n",
       "0                   0.625464  0.585428  0.678477  0.603342  0.687666   \n",
       "1                   0.374536  0.414572  0.321523  0.396658  0.312334   \n",
       "\n",
       "arrival_date_month   October  September  \n",
       "is_canceled                              \n",
       "0                   0.619534   0.608298  \n",
       "1                   0.380466   0.391702  "
      ]
     },
     "execution_count": 420,
     "metadata": {},
     "output_type": "execute_result"
    }
   ],
   "source": [
    "month_cancel = pd.pivot_table(index='is_canceled', columns='arrival_date_month', values='lead_time', data=hotel_df, aggfunc='count') \n",
    "month_cancel/month_cancel.apply(sum)\n",
    "\n"
   ]
  },
  {
   "cell_type": "code",
   "execution_count": 421,
   "id": "5f3108d3",
   "metadata": {},
   "outputs": [
    {
     "data": {
      "text/html": [
       "<div>\n",
       "<style scoped>\n",
       "    .dataframe tbody tr th:only-of-type {\n",
       "        vertical-align: middle;\n",
       "    }\n",
       "\n",
       "    .dataframe tbody tr th {\n",
       "        vertical-align: top;\n",
       "    }\n",
       "\n",
       "    .dataframe thead th {\n",
       "        text-align: right;\n",
       "    }\n",
       "</style>\n",
       "<table border=\"1\" class=\"dataframe\">\n",
       "  <thead>\n",
       "    <tr style=\"text-align: right;\">\n",
       "      <th>customer_type</th>\n",
       "      <th>Contract</th>\n",
       "      <th>Group</th>\n",
       "      <th>Transient</th>\n",
       "      <th>Transient-Party</th>\n",
       "    </tr>\n",
       "    <tr>\n",
       "      <th>is_canceled</th>\n",
       "      <th></th>\n",
       "      <th></th>\n",
       "      <th></th>\n",
       "      <th></th>\n",
       "    </tr>\n",
       "  </thead>\n",
       "  <tbody>\n",
       "    <tr>\n",
       "      <th>0</th>\n",
       "      <td>2814</td>\n",
       "      <td>518</td>\n",
       "      <td>53099</td>\n",
       "      <td>18735</td>\n",
       "    </tr>\n",
       "    <tr>\n",
       "      <th>1</th>\n",
       "      <td>1262</td>\n",
       "      <td>59</td>\n",
       "      <td>36514</td>\n",
       "      <td>6389</td>\n",
       "    </tr>\n",
       "  </tbody>\n",
       "</table>\n",
       "</div>"
      ],
      "text/plain": [
       "customer_type  Contract  Group  Transient  Transient-Party\n",
       "is_canceled                                               \n",
       "0                  2814    518      53099            18735\n",
       "1                  1262     59      36514             6389"
      ]
     },
     "execution_count": 421,
     "metadata": {},
     "output_type": "execute_result"
    }
   ],
   "source": [
    "pd.pivot_table(index='is_canceled', columns='customer_type', values='lead_time', data=hotel_df, aggfunc='count') "
   ]
  },
  {
   "cell_type": "code",
   "execution_count": 422,
   "id": "9704a9cf",
   "metadata": {},
   "outputs": [
    {
     "data": {
      "text/plain": [
       "802"
      ]
     },
     "execution_count": 422,
     "metadata": {},
     "output_type": "execute_result"
    }
   ],
   "source": [
    "sum(hotel_df[hotel_df['reserved_room_type'] != hotel_df['assigned_room_type']]['is_canceled'] != 0)"
   ]
  },
  {
   "cell_type": "code",
   "execution_count": 423,
   "id": "2e3642a6",
   "metadata": {},
   "outputs": [
    {
     "data": {
      "text/html": [
       "<div>\n",
       "<style scoped>\n",
       "    .dataframe tbody tr th:only-of-type {\n",
       "        vertical-align: middle;\n",
       "    }\n",
       "\n",
       "    .dataframe tbody tr th {\n",
       "        vertical-align: top;\n",
       "    }\n",
       "\n",
       "    .dataframe thead th {\n",
       "        text-align: right;\n",
       "    }\n",
       "</style>\n",
       "<table border=\"1\" class=\"dataframe\">\n",
       "  <thead>\n",
       "    <tr style=\"text-align: right;\">\n",
       "      <th>deposit_type</th>\n",
       "      <th>No Deposit</th>\n",
       "      <th>Non Refund</th>\n",
       "      <th>Refundable</th>\n",
       "    </tr>\n",
       "    <tr>\n",
       "      <th>is_canceled</th>\n",
       "      <th></th>\n",
       "      <th></th>\n",
       "      <th></th>\n",
       "    </tr>\n",
       "  </thead>\n",
       "  <tbody>\n",
       "    <tr>\n",
       "      <th>0</th>\n",
       "      <td>74947</td>\n",
       "      <td>93</td>\n",
       "      <td>126</td>\n",
       "    </tr>\n",
       "    <tr>\n",
       "      <th>1</th>\n",
       "      <td>29694</td>\n",
       "      <td>14494</td>\n",
       "      <td>36</td>\n",
       "    </tr>\n",
       "  </tbody>\n",
       "</table>\n",
       "</div>"
      ],
      "text/plain": [
       "deposit_type  No Deposit  Non Refund  Refundable\n",
       "is_canceled                                     \n",
       "0                  74947          93         126\n",
       "1                  29694       14494          36"
      ]
     },
     "execution_count": 423,
     "metadata": {},
     "output_type": "execute_result"
    }
   ],
   "source": [
    "pd.pivot_table(index='is_canceled', columns='deposit_type', values='lead_time', data=hotel_df, aggfunc='count')"
   ]
  },
  {
   "cell_type": "code",
   "execution_count": 424,
   "id": "73bc0fb1",
   "metadata": {},
   "outputs": [
    {
     "name": "stdout",
     "output_type": "stream",
     "text": [
      "required_car_parking_spaces        0       1     2    3    8\n",
      "is_canceled                                                 \n",
      "0                            67750.0  7383.0  28.0  3.0  2.0\n",
      "1                            44224.0     NaN   NaN  NaN  NaN\n"
     ]
    },
    {
     "data": {
      "image/png": "[encoded data removed]",
      "text/plain": [
       "<Figure size 432x288 with 1 Axes>"
      ]
     },
     "metadata": {
      "needs_background": "light"
     },
     "output_type": "display_data"
    }
   ],
   "source": [
    "plt.scatter(hotel_df['required_car_parking_spaces'], hotel_df['is_canceled'])\n",
    "print(hotel_df.pivot_table(columns = 'required_car_parking_spaces', index = 'is_canceled', values = 'lead_time', aggfunc = 'count'))\n",
    "\n"
   ]
  },
  {
   "cell_type": "code",
   "execution_count": 27,
   "id": "2b89751c",
   "metadata": {},
   "outputs": [
    {
     "data": {
      "text/html": [
       "<div>\n",
       "<style scoped>\n",
       "    .dataframe tbody tr th:only-of-type {\n",
       "        vertical-align: middle;\n",
       "    }\n",
       "\n",
       "    .dataframe tbody tr th {\n",
       "        vertical-align: top;\n",
       "    }\n",
       "\n",
       "    .dataframe thead th {\n",
       "        text-align: right;\n",
       "    }\n",
       "</style>\n",
       "<table border=\"1\" class=\"dataframe\">\n",
       "  <thead>\n",
       "    <tr style=\"text-align: right;\">\n",
       "      <th>booking_changes</th>\n",
       "      <th>0</th>\n",
       "      <th>1</th>\n",
       "      <th>2</th>\n",
       "      <th>3</th>\n",
       "      <th>4</th>\n",
       "      <th>5</th>\n",
       "      <th>6</th>\n",
       "      <th>7</th>\n",
       "      <th>8</th>\n",
       "      <th>9</th>\n",
       "      <th>...</th>\n",
       "      <th>11</th>\n",
       "      <th>12</th>\n",
       "      <th>13</th>\n",
       "      <th>14</th>\n",
       "      <th>15</th>\n",
       "      <th>16</th>\n",
       "      <th>17</th>\n",
       "      <th>18</th>\n",
       "      <th>20</th>\n",
       "      <th>21</th>\n",
       "    </tr>\n",
       "    <tr>\n",
       "      <th>is_canceled</th>\n",
       "      <th></th>\n",
       "      <th></th>\n",
       "      <th></th>\n",
       "      <th></th>\n",
       "      <th></th>\n",
       "      <th></th>\n",
       "      <th></th>\n",
       "      <th></th>\n",
       "      <th></th>\n",
       "      <th></th>\n",
       "      <th></th>\n",
       "      <th></th>\n",
       "      <th></th>\n",
       "      <th></th>\n",
       "      <th></th>\n",
       "      <th></th>\n",
       "      <th></th>\n",
       "      <th></th>\n",
       "      <th></th>\n",
       "      <th></th>\n",
       "      <th></th>\n",
       "    </tr>\n",
       "  </thead>\n",
       "  <tbody>\n",
       "    <tr>\n",
       "      <th>0</th>\n",
       "      <td>59923.0</td>\n",
       "      <td>10894.0</td>\n",
       "      <td>3039.0</td>\n",
       "      <td>783.0</td>\n",
       "      <td>309.0</td>\n",
       "      <td>98.0</td>\n",
       "      <td>45.0</td>\n",
       "      <td>28.0</td>\n",
       "      <td>13.0</td>\n",
       "      <td>7.0</td>\n",
       "      <td>...</td>\n",
       "      <td>2.0</td>\n",
       "      <td>2.0</td>\n",
       "      <td>5.0</td>\n",
       "      <td>4.0</td>\n",
       "      <td>3.0</td>\n",
       "      <td>1.0</td>\n",
       "      <td>2.0</td>\n",
       "      <td>1.0</td>\n",
       "      <td>1.0</td>\n",
       "      <td>1.0</td>\n",
       "    </tr>\n",
       "    <tr>\n",
       "      <th>1</th>\n",
       "      <td>41391.0</td>\n",
       "      <td>1807.0</td>\n",
       "      <td>766.0</td>\n",
       "      <td>144.0</td>\n",
       "      <td>67.0</td>\n",
       "      <td>20.0</td>\n",
       "      <td>18.0</td>\n",
       "      <td>3.0</td>\n",
       "      <td>4.0</td>\n",
       "      <td>1.0</td>\n",
       "      <td>...</td>\n",
       "      <td>NaN</td>\n",
       "      <td>NaN</td>\n",
       "      <td>NaN</td>\n",
       "      <td>1.0</td>\n",
       "      <td>NaN</td>\n",
       "      <td>1.0</td>\n",
       "      <td>NaN</td>\n",
       "      <td>NaN</td>\n",
       "      <td>NaN</td>\n",
       "      <td>NaN</td>\n",
       "    </tr>\n",
       "  </tbody>\n",
       "</table>\n",
       "<p>2 rows × 21 columns</p>\n",
       "</div>"
      ],
      "text/plain": [
       "booking_changes       0        1       2      3      4     5     6     7   \\\n",
       "is_canceled                                                                 \n",
       "0                59923.0  10894.0  3039.0  783.0  309.0  98.0  45.0  28.0   \n",
       "1                41391.0   1807.0   766.0  144.0   67.0  20.0  18.0   3.0   \n",
       "\n",
       "booking_changes    8    9   ...   11   12   13   14   15   16   17   18   20  \\\n",
       "is_canceled                 ...                                                \n",
       "0                13.0  7.0  ...  2.0  2.0  5.0  4.0  3.0  1.0  2.0  1.0  1.0   \n",
       "1                 4.0  1.0  ...  NaN  NaN  NaN  1.0  NaN  1.0  NaN  NaN  NaN   \n",
       "\n",
       "booking_changes   21  \n",
       "is_canceled           \n",
       "0                1.0  \n",
       "1                NaN  \n",
       "\n",
       "[2 rows x 21 columns]"
      ]
     },
     "execution_count": 27,
     "metadata": {},
     "output_type": "execute_result"
    }
   ],
   "source": [
    "#number of cancellations go down as more changes are made to the booking\n",
    "pd.pivot_table(index='is_canceled', columns='booking_changes', values='lead_time', data=hotel_df, aggfunc='count')\n",
    "#df_svm = hotel_df.copy(deep=True)"
   ]
  },
  {
   "cell_type": "markdown",
   "id": "8787d745",
   "metadata": {},
   "source": [
    "## Create a new data frame for fit and prediction"
   ]
  },
  {
   "cell_type": "code",
   "execution_count": 83,
   "id": "7fc5f24a",
   "metadata": {},
   "outputs": [
    {
     "data": {
      "text/plain": [
       "hotel                        Resort Hotel\n",
       "is_canceled                             0\n",
       "arrival_date_whole    2015-07-01 00:00:00\n",
       "market_segment                     Direct\n",
       "customer_type                   Transient\n",
       "deposit_type                   No Deposit\n",
       "booking_changes                         3\n",
       "lead_time                             342\n",
       "is_repeated_guest                       0\n",
       "Name: 0, dtype: object"
      ]
     },
     "execution_count": 83,
     "metadata": {},
     "output_type": "execute_result"
    }
   ],
   "source": [
    "new_hotel = hotel_df[['hotel', 'is_canceled', 'arrival_date_whole','market_segment','customer_type','deposit_type','booking_changes','lead_time','is_repeated_guest']].copy()\n",
    "new_hotel.iloc[0]"
   ]
  },
  {
   "cell_type": "markdown",
   "id": "d8f4c91e",
   "metadata": {},
   "source": [
    "## Date Preprocessing"
   ]
  },
  {
   "cell_type": "code",
   "execution_count": 84,
   "id": "e7eb80f2",
   "metadata": {
    "scrolled": true
   },
   "outputs": [],
   "source": [
    "new_hotel['hotel'] = new_hotel['hotel'].map(lambda x: 1 if x=='Resort Hotel' else 0)\n",
    "new_hotel['arrival_month'] = pd.DatetimeIndex(new_hotel['arrival_date_whole']).month\n",
    "new_hotel['arrival_year'] = pd.DatetimeIndex(new_hotel['arrival_date_whole']).year"
   ]
  },
  {
   "cell_type": "code",
   "execution_count": 85,
   "id": "b0cef7a4",
   "metadata": {},
   "outputs": [
    {
     "data": {
      "text/html": [
       "<div>\n",
       "<style scoped>\n",
       "    .dataframe tbody tr th:only-of-type {\n",
       "        vertical-align: middle;\n",
       "    }\n",
       "\n",
       "    .dataframe tbody tr th {\n",
       "        vertical-align: top;\n",
       "    }\n",
       "\n",
       "    .dataframe thead th {\n",
       "        text-align: right;\n",
       "    }\n",
       "</style>\n",
       "<table border=\"1\" class=\"dataframe\">\n",
       "  <thead>\n",
       "    <tr style=\"text-align: right;\">\n",
       "      <th></th>\n",
       "      <th>hotel</th>\n",
       "      <th>is_canceled</th>\n",
       "      <th>arrival_date_whole</th>\n",
       "      <th>market_segment</th>\n",
       "      <th>customer_type</th>\n",
       "      <th>deposit_type</th>\n",
       "      <th>booking_changes</th>\n",
       "      <th>lead_time</th>\n",
       "      <th>is_repeated_guest</th>\n",
       "      <th>arrival_month</th>\n",
       "      <th>...</th>\n",
       "      <th>Corporate</th>\n",
       "      <th>Direct</th>\n",
       "      <th>Groups</th>\n",
       "      <th>Offline TA/TO</th>\n",
       "      <th>Online TA</th>\n",
       "      <th>Undefined</th>\n",
       "      <th>Contract</th>\n",
       "      <th>Group</th>\n",
       "      <th>Transient</th>\n",
       "      <th>Transient-Party</th>\n",
       "    </tr>\n",
       "  </thead>\n",
       "  <tbody>\n",
       "    <tr>\n",
       "      <th>0</th>\n",
       "      <td>1</td>\n",
       "      <td>0</td>\n",
       "      <td>2015-07-01</td>\n",
       "      <td>Direct</td>\n",
       "      <td>Transient</td>\n",
       "      <td>No Deposit</td>\n",
       "      <td>3</td>\n",
       "      <td>342</td>\n",
       "      <td>0</td>\n",
       "      <td>7</td>\n",
       "      <td>...</td>\n",
       "      <td>0</td>\n",
       "      <td>1</td>\n",
       "      <td>0</td>\n",
       "      <td>0</td>\n",
       "      <td>0</td>\n",
       "      <td>0</td>\n",
       "      <td>0</td>\n",
       "      <td>0</td>\n",
       "      <td>1</td>\n",
       "      <td>0</td>\n",
       "    </tr>\n",
       "    <tr>\n",
       "      <th>1</th>\n",
       "      <td>1</td>\n",
       "      <td>0</td>\n",
       "      <td>2015-07-01</td>\n",
       "      <td>Direct</td>\n",
       "      <td>Transient</td>\n",
       "      <td>No Deposit</td>\n",
       "      <td>4</td>\n",
       "      <td>737</td>\n",
       "      <td>0</td>\n",
       "      <td>7</td>\n",
       "      <td>...</td>\n",
       "      <td>0</td>\n",
       "      <td>1</td>\n",
       "      <td>0</td>\n",
       "      <td>0</td>\n",
       "      <td>0</td>\n",
       "      <td>0</td>\n",
       "      <td>0</td>\n",
       "      <td>0</td>\n",
       "      <td>1</td>\n",
       "      <td>0</td>\n",
       "    </tr>\n",
       "    <tr>\n",
       "      <th>2</th>\n",
       "      <td>1</td>\n",
       "      <td>0</td>\n",
       "      <td>2015-07-01</td>\n",
       "      <td>Direct</td>\n",
       "      <td>Transient</td>\n",
       "      <td>No Deposit</td>\n",
       "      <td>0</td>\n",
       "      <td>7</td>\n",
       "      <td>0</td>\n",
       "      <td>7</td>\n",
       "      <td>...</td>\n",
       "      <td>0</td>\n",
       "      <td>1</td>\n",
       "      <td>0</td>\n",
       "      <td>0</td>\n",
       "      <td>0</td>\n",
       "      <td>0</td>\n",
       "      <td>0</td>\n",
       "      <td>0</td>\n",
       "      <td>1</td>\n",
       "      <td>0</td>\n",
       "    </tr>\n",
       "    <tr>\n",
       "      <th>3</th>\n",
       "      <td>1</td>\n",
       "      <td>0</td>\n",
       "      <td>2015-07-01</td>\n",
       "      <td>Corporate</td>\n",
       "      <td>Transient</td>\n",
       "      <td>No Deposit</td>\n",
       "      <td>0</td>\n",
       "      <td>13</td>\n",
       "      <td>0</td>\n",
       "      <td>7</td>\n",
       "      <td>...</td>\n",
       "      <td>1</td>\n",
       "      <td>0</td>\n",
       "      <td>0</td>\n",
       "      <td>0</td>\n",
       "      <td>0</td>\n",
       "      <td>0</td>\n",
       "      <td>0</td>\n",
       "      <td>0</td>\n",
       "      <td>1</td>\n",
       "      <td>0</td>\n",
       "    </tr>\n",
       "    <tr>\n",
       "      <th>4</th>\n",
       "      <td>1</td>\n",
       "      <td>0</td>\n",
       "      <td>2015-07-01</td>\n",
       "      <td>Online TA</td>\n",
       "      <td>Transient</td>\n",
       "      <td>No Deposit</td>\n",
       "      <td>0</td>\n",
       "      <td>14</td>\n",
       "      <td>0</td>\n",
       "      <td>7</td>\n",
       "      <td>...</td>\n",
       "      <td>0</td>\n",
       "      <td>0</td>\n",
       "      <td>0</td>\n",
       "      <td>0</td>\n",
       "      <td>1</td>\n",
       "      <td>0</td>\n",
       "      <td>0</td>\n",
       "      <td>0</td>\n",
       "      <td>1</td>\n",
       "      <td>0</td>\n",
       "    </tr>\n",
       "  </tbody>\n",
       "</table>\n",
       "<p>5 rows × 26 columns</p>\n",
       "</div>"
      ],
      "text/plain": [
       "   hotel  is_canceled arrival_date_whole market_segment customer_type  \\\n",
       "0      1            0         2015-07-01         Direct     Transient   \n",
       "1      1            0         2015-07-01         Direct     Transient   \n",
       "2      1            0         2015-07-01         Direct     Transient   \n",
       "3      1            0         2015-07-01      Corporate     Transient   \n",
       "4      1            0         2015-07-01      Online TA     Transient   \n",
       "\n",
       "  deposit_type  booking_changes  lead_time  is_repeated_guest  arrival_month  \\\n",
       "0   No Deposit                3        342                  0              7   \n",
       "1   No Deposit                4        737                  0              7   \n",
       "2   No Deposit                0          7                  0              7   \n",
       "3   No Deposit                0         13                  0              7   \n",
       "4   No Deposit                0         14                  0              7   \n",
       "\n",
       "   ...  Corporate  Direct  Groups  Offline TA/TO  Online TA  Undefined  \\\n",
       "0  ...          0       1       0              0          0          0   \n",
       "1  ...          0       1       0              0          0          0   \n",
       "2  ...          0       1       0              0          0          0   \n",
       "3  ...          1       0       0              0          0          0   \n",
       "4  ...          0       0       0              0          1          0   \n",
       "\n",
       "   Contract  Group  Transient  Transient-Party  \n",
       "0         0      0          1                0  \n",
       "1         0      0          1                0  \n",
       "2         0      0          1                0  \n",
       "3         0      0          1                0  \n",
       "4         0      0          1                0  \n",
       "\n",
       "[5 rows x 26 columns]"
      ]
     },
     "execution_count": 85,
     "metadata": {},
     "output_type": "execute_result"
    }
   ],
   "source": [
    "# Create dummy columns for the categorical columns\n",
    "deposit = pd.get_dummies(new_hotel['deposit_type'])\n",
    "market = pd.get_dummies(new_hotel['market_segment'])\n",
    "customer = pd.get_dummies(new_hotel['customer_type'])\n",
    "new_hotel = pd.concat([new_hotel, deposit,market,customer], axis=1)\n",
    "new_hotel.head()"
   ]
  },
  {
   "cell_type": "code",
   "execution_count": 86,
   "id": "badb6191",
   "metadata": {},
   "outputs": [
    {
     "data": {
      "text/html": [
       "<div>\n",
       "<style scoped>\n",
       "    .dataframe tbody tr th:only-of-type {\n",
       "        vertical-align: middle;\n",
       "    }\n",
       "\n",
       "    .dataframe tbody tr th {\n",
       "        vertical-align: top;\n",
       "    }\n",
       "\n",
       "    .dataframe thead th {\n",
       "        text-align: right;\n",
       "    }\n",
       "</style>\n",
       "<table border=\"1\" class=\"dataframe\">\n",
       "  <thead>\n",
       "    <tr style=\"text-align: right;\">\n",
       "      <th></th>\n",
       "      <th>hotel</th>\n",
       "      <th>is_canceled</th>\n",
       "      <th>booking_changes</th>\n",
       "      <th>lead_time</th>\n",
       "      <th>is_repeated_guest</th>\n",
       "      <th>arrival_month</th>\n",
       "      <th>arrival_year</th>\n",
       "      <th>No Deposit</th>\n",
       "      <th>Non Refund</th>\n",
       "      <th>Refundable</th>\n",
       "      <th>...</th>\n",
       "      <th>Corporate</th>\n",
       "      <th>Direct</th>\n",
       "      <th>Groups</th>\n",
       "      <th>Offline TA/TO</th>\n",
       "      <th>Online TA</th>\n",
       "      <th>Undefined</th>\n",
       "      <th>Contract</th>\n",
       "      <th>Group</th>\n",
       "      <th>Transient</th>\n",
       "      <th>Transient-Party</th>\n",
       "    </tr>\n",
       "  </thead>\n",
       "  <tbody>\n",
       "    <tr>\n",
       "      <th>0</th>\n",
       "      <td>1</td>\n",
       "      <td>0</td>\n",
       "      <td>3</td>\n",
       "      <td>342</td>\n",
       "      <td>0</td>\n",
       "      <td>7</td>\n",
       "      <td>2015</td>\n",
       "      <td>1</td>\n",
       "      <td>0</td>\n",
       "      <td>0</td>\n",
       "      <td>...</td>\n",
       "      <td>0</td>\n",
       "      <td>1</td>\n",
       "      <td>0</td>\n",
       "      <td>0</td>\n",
       "      <td>0</td>\n",
       "      <td>0</td>\n",
       "      <td>0</td>\n",
       "      <td>0</td>\n",
       "      <td>1</td>\n",
       "      <td>0</td>\n",
       "    </tr>\n",
       "    <tr>\n",
       "      <th>1</th>\n",
       "      <td>1</td>\n",
       "      <td>0</td>\n",
       "      <td>4</td>\n",
       "      <td>737</td>\n",
       "      <td>0</td>\n",
       "      <td>7</td>\n",
       "      <td>2015</td>\n",
       "      <td>1</td>\n",
       "      <td>0</td>\n",
       "      <td>0</td>\n",
       "      <td>...</td>\n",
       "      <td>0</td>\n",
       "      <td>1</td>\n",
       "      <td>0</td>\n",
       "      <td>0</td>\n",
       "      <td>0</td>\n",
       "      <td>0</td>\n",
       "      <td>0</td>\n",
       "      <td>0</td>\n",
       "      <td>1</td>\n",
       "      <td>0</td>\n",
       "    </tr>\n",
       "    <tr>\n",
       "      <th>2</th>\n",
       "      <td>1</td>\n",
       "      <td>0</td>\n",
       "      <td>0</td>\n",
       "      <td>7</td>\n",
       "      <td>0</td>\n",
       "      <td>7</td>\n",
       "      <td>2015</td>\n",
       "      <td>1</td>\n",
       "      <td>0</td>\n",
       "      <td>0</td>\n",
       "      <td>...</td>\n",
       "      <td>0</td>\n",
       "      <td>1</td>\n",
       "      <td>0</td>\n",
       "      <td>0</td>\n",
       "      <td>0</td>\n",
       "      <td>0</td>\n",
       "      <td>0</td>\n",
       "      <td>0</td>\n",
       "      <td>1</td>\n",
       "      <td>0</td>\n",
       "    </tr>\n",
       "    <tr>\n",
       "      <th>3</th>\n",
       "      <td>1</td>\n",
       "      <td>0</td>\n",
       "      <td>0</td>\n",
       "      <td>13</td>\n",
       "      <td>0</td>\n",
       "      <td>7</td>\n",
       "      <td>2015</td>\n",
       "      <td>1</td>\n",
       "      <td>0</td>\n",
       "      <td>0</td>\n",
       "      <td>...</td>\n",
       "      <td>1</td>\n",
       "      <td>0</td>\n",
       "      <td>0</td>\n",
       "      <td>0</td>\n",
       "      <td>0</td>\n",
       "      <td>0</td>\n",
       "      <td>0</td>\n",
       "      <td>0</td>\n",
       "      <td>1</td>\n",
       "      <td>0</td>\n",
       "    </tr>\n",
       "    <tr>\n",
       "      <th>4</th>\n",
       "      <td>1</td>\n",
       "      <td>0</td>\n",
       "      <td>0</td>\n",
       "      <td>14</td>\n",
       "      <td>0</td>\n",
       "      <td>7</td>\n",
       "      <td>2015</td>\n",
       "      <td>1</td>\n",
       "      <td>0</td>\n",
       "      <td>0</td>\n",
       "      <td>...</td>\n",
       "      <td>0</td>\n",
       "      <td>0</td>\n",
       "      <td>0</td>\n",
       "      <td>0</td>\n",
       "      <td>1</td>\n",
       "      <td>0</td>\n",
       "      <td>0</td>\n",
       "      <td>0</td>\n",
       "      <td>1</td>\n",
       "      <td>0</td>\n",
       "    </tr>\n",
       "  </tbody>\n",
       "</table>\n",
       "<p>5 rows × 22 columns</p>\n",
       "</div>"
      ],
      "text/plain": [
       "   hotel  is_canceled  booking_changes  lead_time  is_repeated_guest  \\\n",
       "0      1            0                3        342                  0   \n",
       "1      1            0                4        737                  0   \n",
       "2      1            0                0          7                  0   \n",
       "3      1            0                0         13                  0   \n",
       "4      1            0                0         14                  0   \n",
       "\n",
       "   arrival_month  arrival_year  No Deposit  Non Refund  Refundable  ...  \\\n",
       "0              7          2015           1           0           0  ...   \n",
       "1              7          2015           1           0           0  ...   \n",
       "2              7          2015           1           0           0  ...   \n",
       "3              7          2015           1           0           0  ...   \n",
       "4              7          2015           1           0           0  ...   \n",
       "\n",
       "   Corporate  Direct  Groups  Offline TA/TO  Online TA  Undefined  Contract  \\\n",
       "0          0       1       0              0          0          0         0   \n",
       "1          0       1       0              0          0          0         0   \n",
       "2          0       1       0              0          0          0         0   \n",
       "3          1       0       0              0          0          0         0   \n",
       "4          0       0       0              0          1          0         0   \n",
       "\n",
       "   Group  Transient  Transient-Party  \n",
       "0      0          1                0  \n",
       "1      0          1                0  \n",
       "2      0          1                0  \n",
       "3      0          1                0  \n",
       "4      0          1                0  \n",
       "\n",
       "[5 rows x 22 columns]"
      ]
     },
     "execution_count": 86,
     "metadata": {},
     "output_type": "execute_result"
    }
   ],
   "source": [
    "# Drop the columns\n",
    "new_hotel.drop(['arrival_date_whole', 'market_segment', 'customer_type', 'deposit_type'], axis=1, inplace=True)\n",
    "new_hotel.head()"
   ]
  },
  {
   "cell_type": "markdown",
   "id": "a0e5d271",
   "metadata": {},
   "source": [
    "## Train and Test data split"
   ]
  },
  {
   "cell_type": "code",
   "execution_count": 87,
   "id": "90d4351b",
   "metadata": {},
   "outputs": [],
   "source": [
    "from sklearn.model_selection import train_test_split\n",
    "X = new_hotel.copy().drop('is_canceled',axis=1)\n",
    "y = new_hotel['is_canceled'].copy()\n",
    "X_train, X_test, y_train, y_test = train_test_split(X, y, test_size=0.33, random_state=42)"
   ]
  },
  {
   "cell_type": "markdown",
   "id": "b4df3472",
   "metadata": {},
   "source": [
    "## KNN Classification"
   ]
  },
  {
   "cell_type": "code",
   "execution_count": null,
   "id": "c95f3aa0",
   "metadata": {},
   "outputs": [],
   "source": [
    "from sklearn.neighbors import KNeighborsClassifier\n",
    "training_acc = []\n",
    "test_acc = []\n",
    "setting = range(1,11)\n",
    "for i in setting:\n",
    "    knn = KNeighborsClassifier(n_neighbors = i)\n",
    "    knn.fit(X_train, y_train)\n",
    "    training_acc.append(knn.score(X_train, y_train))\n",
    "    test_acc.append(knn.score(X_test, y_test))\n",
    "plot(setting, training_acc, label='training accuracy')\n",
    "plot(setting, test_acc, label='test_accuracy')\n",
    "legend()\n",
    "show()"
   ]
  },
  {
   "cell_type": "code",
   "execution_count": 90,
   "id": "097a7dce",
   "metadata": {},
   "outputs": [
    {
     "data": {
      "text/plain": [
       "0.7639026371227696"
      ]
     },
     "execution_count": 90,
     "metadata": {},
     "output_type": "execute_result"
    }
   ],
   "source": [
    "knn = KNeighborsClassifier(n_neighbors = 3)\n",
    "knn.fit(X_train, y_train)\n",
    "knn.score(X_test, y_test)"
   ]
  },
  {
   "cell_type": "code",
   "execution_count": 93,
   "id": "4446449c",
   "metadata": {},
   "outputs": [
    {
     "data": {
      "text/plain": [
       "0.7710601791923652"
      ]
     },
     "execution_count": 93,
     "metadata": {},
     "output_type": "execute_result"
    }
   ],
   "source": [
    "knn = KNeighborsClassifier(n_neighbors = 5)\n",
    "knn.fit(X_train, y_train)\n",
    "knn.score(X_test, y_test)"
   ]
  },
  {
   "cell_type": "markdown",
   "id": "c2aec593",
   "metadata": {},
   "source": [
    "## Linear Regression"
   ]
  },
  {
   "cell_type": "code",
   "execution_count": 92,
   "id": "5f417005",
   "metadata": {},
   "outputs": [
    {
     "data": {
      "text/html": [
       "<table class=\"simpletable\">\n",
       "<caption>OLS Regression Results</caption>\n",
       "<tr>\n",
       "  <th>Dep. Variable:</th>       <td>is_canceled</td>   <th>  R-squared:         </th> <td>   0.291</td> \n",
       "</tr>\n",
       "<tr>\n",
       "  <th>Model:</th>                   <td>OLS</td>       <th>  Adj. R-squared:    </th> <td>   0.290</td> \n",
       "</tr>\n",
       "<tr>\n",
       "  <th>Method:</th>             <td>Least Squares</td>  <th>  F-statistic:       </th> <td>   2715.</td> \n",
       "</tr>\n",
       "<tr>\n",
       "  <th>Date:</th>             <td>Thu, 29 Jul 2021</td> <th>  Prob (F-statistic):</th>  <td>  0.00</td>  \n",
       "</tr>\n",
       "<tr>\n",
       "  <th>Time:</th>                 <td>22:49:54</td>     <th>  Log-Likelihood:    </th> <td> -62014.</td> \n",
       "</tr>\n",
       "<tr>\n",
       "  <th>No. Observations:</th>      <td>119390</td>      <th>  AIC:               </th> <td>1.241e+05</td>\n",
       "</tr>\n",
       "<tr>\n",
       "  <th>Df Residuals:</th>          <td>119371</td>      <th>  BIC:               </th> <td>1.242e+05</td>\n",
       "</tr>\n",
       "<tr>\n",
       "  <th>Df Model:</th>              <td>    18</td>      <th>                     </th>     <td> </td>    \n",
       "</tr>\n",
       "<tr>\n",
       "  <th>Covariance Type:</th>      <td>nonrobust</td>    <th>                     </th>     <td> </td>    \n",
       "</tr>\n",
       "</table>\n",
       "<table class=\"simpletable\">\n",
       "<tr>\n",
       "          <td></td>             <th>coef</th>     <th>std err</th>      <th>t</th>      <th>P>|t|</th>  <th>[0.025</th>    <th>0.975]</th>  \n",
       "</tr>\n",
       "<tr>\n",
       "  <th>hotel</th>             <td>   -0.0341</td> <td>    0.003</td> <td>  -13.201</td> <td> 0.000</td> <td>   -0.039</td> <td>   -0.029</td>\n",
       "</tr>\n",
       "<tr>\n",
       "  <th>booking_changes</th>   <td>   -0.0591</td> <td>    0.002</td> <td>  -32.110</td> <td> 0.000</td> <td>   -0.063</td> <td>   -0.056</td>\n",
       "</tr>\n",
       "<tr>\n",
       "  <th>lead_time</th>         <td>    0.0007</td> <td> 1.32e-05</td> <td>   50.200</td> <td> 0.000</td> <td>    0.001</td> <td>    0.001</td>\n",
       "</tr>\n",
       "<tr>\n",
       "  <th>is_repeated_guest</th> <td>   -0.0567</td> <td>    0.007</td> <td>   -7.870</td> <td> 0.000</td> <td>   -0.071</td> <td>   -0.043</td>\n",
       "</tr>\n",
       "<tr>\n",
       "  <th>arrival_month</th>     <td>    0.0001</td> <td>    0.000</td> <td>    0.303</td> <td> 0.762</td> <td>   -0.001</td> <td>    0.001</td>\n",
       "</tr>\n",
       "<tr>\n",
       "  <th>arrival_year</th>      <td>    0.0009</td> <td>    0.002</td> <td>    0.414</td> <td> 0.679</td> <td>   -0.003</td> <td>    0.005</td>\n",
       "</tr>\n",
       "<tr>\n",
       "  <th>No Deposit</th>        <td>   -0.8153</td> <td>    1.995</td> <td>   -0.409</td> <td> 0.683</td> <td>   -4.725</td> <td>    3.095</td>\n",
       "</tr>\n",
       "<tr>\n",
       "  <th>Non Refund</th>        <td>   -0.1704</td> <td>    1.994</td> <td>   -0.085</td> <td> 0.932</td> <td>   -4.079</td> <td>    3.739</td>\n",
       "</tr>\n",
       "<tr>\n",
       "  <th>Refundable</th>        <td>   -0.8228</td> <td>    1.995</td> <td>   -0.412</td> <td> 0.680</td> <td>   -4.733</td> <td>    3.087</td>\n",
       "</tr>\n",
       "<tr>\n",
       "  <th>Aviation</th>          <td>   -0.3011</td> <td>    0.750</td> <td>   -0.402</td> <td> 0.688</td> <td>   -1.770</td> <td>    1.168</td>\n",
       "</tr>\n",
       "<tr>\n",
       "  <th>Complementary</th>     <td>   -0.3815</td> <td>    0.749</td> <td>   -0.510</td> <td> 0.610</td> <td>   -1.849</td> <td>    1.086</td>\n",
       "</tr>\n",
       "<tr>\n",
       "  <th>Corporate</th>         <td>   -0.3520</td> <td>    0.749</td> <td>   -0.470</td> <td> 0.638</td> <td>   -1.819</td> <td>    1.116</td>\n",
       "</tr>\n",
       "<tr>\n",
       "  <th>Direct</th>            <td>   -0.3827</td> <td>    0.749</td> <td>   -0.511</td> <td> 0.609</td> <td>   -1.850</td> <td>    1.085</td>\n",
       "</tr>\n",
       "<tr>\n",
       "  <th>Groups</th>            <td>   -0.3047</td> <td>    0.748</td> <td>   -0.407</td> <td> 0.684</td> <td>   -1.772</td> <td>    1.162</td>\n",
       "</tr>\n",
       "<tr>\n",
       "  <th>Offline TA/TO</th>     <td>   -0.3830</td> <td>    0.749</td> <td>   -0.512</td> <td> 0.609</td> <td>   -1.850</td> <td>    1.084</td>\n",
       "</tr>\n",
       "<tr>\n",
       "  <th>Online TA</th>         <td>   -0.2121</td> <td>    0.749</td> <td>   -0.283</td> <td> 0.777</td> <td>   -1.680</td> <td>    1.256</td>\n",
       "</tr>\n",
       "<tr>\n",
       "  <th>Undefined</th>         <td>    0.5086</td> <td>    0.790</td> <td>    0.644</td> <td> 0.520</td> <td>   -1.040</td> <td>    2.057</td>\n",
       "</tr>\n",
       "<tr>\n",
       "  <th>Contract</th>          <td>   -0.4803</td> <td>    1.495</td> <td>   -0.321</td> <td> 0.748</td> <td>   -3.411</td> <td>    2.451</td>\n",
       "</tr>\n",
       "<tr>\n",
       "  <th>Group</th>             <td>   -0.4964</td> <td>    1.496</td> <td>   -0.332</td> <td> 0.740</td> <td>   -3.429</td> <td>    2.436</td>\n",
       "</tr>\n",
       "<tr>\n",
       "  <th>Transient</th>         <td>   -0.3847</td> <td>    1.496</td> <td>   -0.257</td> <td> 0.797</td> <td>   -3.318</td> <td>    2.548</td>\n",
       "</tr>\n",
       "<tr>\n",
       "  <th>Transient-Party</th>   <td>   -0.4471</td> <td>    1.496</td> <td>   -0.299</td> <td> 0.765</td> <td>   -3.379</td> <td>    2.485</td>\n",
       "</tr>\n",
       "</table>\n",
       "<table class=\"simpletable\">\n",
       "<tr>\n",
       "  <th>Omnibus:</th>       <td>18168.354</td> <th>  Durbin-Watson:     </th> <td>   0.486</td> \n",
       "</tr>\n",
       "<tr>\n",
       "  <th>Prob(Omnibus):</th>  <td> 0.000</td>   <th>  Jarque-Bera (JB):  </th> <td>18154.804</td>\n",
       "</tr>\n",
       "<tr>\n",
       "  <th>Skew:</th>           <td> 0.888</td>   <th>  Prob(JB):          </th> <td>    0.00</td> \n",
       "</tr>\n",
       "<tr>\n",
       "  <th>Kurtosis:</th>       <td> 2.297</td>   <th>  Cond. No.          </th> <td>1.38e+18</td> \n",
       "</tr>\n",
       "</table><br/><br/>Notes:<br/>[1] Standard Errors assume that the covariance matrix of the errors is correctly specified.<br/>[2] The smallest eigenvalue is 2.55e-25. This might indicate that there are<br/>strong multicollinearity problems or that the design matrix is singular."
      ],
      "text/plain": [
       "<class 'statsmodels.iolib.summary.Summary'>\n",
       "\"\"\"\n",
       "                            OLS Regression Results                            \n",
       "==============================================================================\n",
       "Dep. Variable:            is_canceled   R-squared:                       0.291\n",
       "Model:                            OLS   Adj. R-squared:                  0.290\n",
       "Method:                 Least Squares   F-statistic:                     2715.\n",
       "Date:                Thu, 29 Jul 2021   Prob (F-statistic):               0.00\n",
       "Time:                        22:49:54   Log-Likelihood:                -62014.\n",
       "No. Observations:              119390   AIC:                         1.241e+05\n",
       "Df Residuals:                  119371   BIC:                         1.242e+05\n",
       "Df Model:                          18                                         \n",
       "Covariance Type:            nonrobust                                         \n",
       "=====================================================================================\n",
       "                        coef    std err          t      P>|t|      [0.025      0.975]\n",
       "-------------------------------------------------------------------------------------\n",
       "hotel                -0.0341      0.003    -13.201      0.000      -0.039      -0.029\n",
       "booking_changes      -0.0591      0.002    -32.110      0.000      -0.063      -0.056\n",
       "lead_time             0.0007   1.32e-05     50.200      0.000       0.001       0.001\n",
       "is_repeated_guest    -0.0567      0.007     -7.870      0.000      -0.071      -0.043\n",
       "arrival_month         0.0001      0.000      0.303      0.762      -0.001       0.001\n",
       "arrival_year          0.0009      0.002      0.414      0.679      -0.003       0.005\n",
       "No Deposit           -0.8153      1.995     -0.409      0.683      -4.725       3.095\n",
       "Non Refund           -0.1704      1.994     -0.085      0.932      -4.079       3.739\n",
       "Refundable           -0.8228      1.995     -0.412      0.680      -4.733       3.087\n",
       "Aviation             -0.3011      0.750     -0.402      0.688      -1.770       1.168\n",
       "Complementary        -0.3815      0.749     -0.510      0.610      -1.849       1.086\n",
       "Corporate            -0.3520      0.749     -0.470      0.638      -1.819       1.116\n",
       "Direct               -0.3827      0.749     -0.511      0.609      -1.850       1.085\n",
       "Groups               -0.3047      0.748     -0.407      0.684      -1.772       1.162\n",
       "Offline TA/TO        -0.3830      0.749     -0.512      0.609      -1.850       1.084\n",
       "Online TA            -0.2121      0.749     -0.283      0.777      -1.680       1.256\n",
       "Undefined             0.5086      0.790      0.644      0.520      -1.040       2.057\n",
       "Contract             -0.4803      1.495     -0.321      0.748      -3.411       2.451\n",
       "Group                -0.4964      1.496     -0.332      0.740      -3.429       2.436\n",
       "Transient            -0.3847      1.496     -0.257      0.797      -3.318       2.548\n",
       "Transient-Party      -0.4471      1.496     -0.299      0.765      -3.379       2.485\n",
       "==============================================================================\n",
       "Omnibus:                    18168.354   Durbin-Watson:                   0.486\n",
       "Prob(Omnibus):                  0.000   Jarque-Bera (JB):            18154.804\n",
       "Skew:                           0.888   Prob(JB):                         0.00\n",
       "Kurtosis:                       2.297   Cond. No.                     1.38e+18\n",
       "==============================================================================\n",
       "\n",
       "Notes:\n",
       "[1] Standard Errors assume that the covariance matrix of the errors is correctly specified.\n",
       "[2] The smallest eigenvalue is 2.55e-25. This might indicate that there are\n",
       "strong multicollinearity problems or that the design matrix is singular.\n",
       "\"\"\""
      ]
     },
     "execution_count": 92,
     "metadata": {},
     "output_type": "execute_result"
    }
   ],
   "source": [
    "import statsmodels.api as sm\n",
    "model = sm.OLS(y, X)\n",
    "result= model.fit()\n",
    "result.summary()"
   ]
  },
  {
   "cell_type": "markdown",
   "id": "b9218339",
   "metadata": {},
   "source": [
    "## Logistic Regression"
   ]
  },
  {
   "cell_type": "code",
   "execution_count": 128,
   "id": "20b9a2f6",
   "metadata": {},
   "outputs": [
    {
     "name": "stdout",
     "output_type": "stream",
     "text": [
      "0.7598162389908373\n",
      "                   Coefficients\n",
      "No Deposit            -2.085603\n",
      "Direct                -0.581211\n",
      "Offline TA/TO         -0.488214\n",
      "booking_changes       -0.407791\n",
      "Transient-Party       -0.379345\n",
      "is_repeated_guest     -0.268958\n",
      "hotel                 -0.236738\n",
      "Corporate             -0.170436\n",
      "Contract              -0.107183\n",
      "Complementary         -0.059746\n",
      "Group                 -0.048130\n",
      "Refundable            -0.035732\n",
      "Aviation              -0.005607\n",
      "arrival_year           0.000165\n",
      "Undefined              0.002202\n",
      "arrival_month          0.002949\n",
      "lead_time              0.004573\n",
      "Online TA              0.473291\n",
      "Transient              0.534897\n",
      "Groups                 0.829959\n",
      "Non Refund             2.121574\n"
     ]
    },
    {
     "name": "stderr",
     "output_type": "stream",
     "text": [
      "c:\\users\\dxzha\\appdata\\local\\programs\\python\\python39\\lib\\site-packages\\sklearn\\linear_model\\_logistic.py:763: ConvergenceWarning: lbfgs failed to converge (status=1):\n",
      "STOP: TOTAL NO. of ITERATIONS REACHED LIMIT.\n",
      "\n",
      "Increase the number of iterations (max_iter) or scale the data as shown in:\n",
      "    https://scikit-learn.org/stable/modules/preprocessing.html\n",
      "Please also refer to the documentation for alternative solver options:\n",
      "    https://scikit-learn.org/stable/modules/linear_model.html#logistic-regression\n",
      "  n_iter_i = _check_optimize_result(\n"
     ]
    }
   ],
   "source": [
    "from sklearn.linear_model import LogisticRegression\n",
    "\n",
    "lr = LogisticRegression()\n",
    "lr.fit(X_train, y_train)\n",
    "print(lr.score(X_test, y_test))\n",
    "\n",
    "cdf = pd.DataFrame(lr.coef_.T, X.columns, columns=['Coefficients'])\n",
    "print(cdf.sort_values(by='Coefficients'))"
   ]
  },
  {
   "cell_type": "markdown",
   "id": "ebcb9aa3",
   "metadata": {},
   "source": [
    "## Decision Tree"
   ]
  },
  {
   "cell_type": "code",
   "execution_count": 113,
   "id": "ac1d20ff",
   "metadata": {},
   "outputs": [
    {
     "name": "stdout",
     "output_type": "stream",
     "text": [
      "0.7780908144876774\n"
     ]
    },
    {
     "data": {
      "text/plain": [
       "booking_changes      0.348458\n",
       "No Deposit           0.339702\n",
       "is_repeated_guest    0.112110\n",
       "arrival_month        0.049495\n",
       "Offline TA/TO        0.043373\n",
       "is_canceled          0.027248\n",
       "hotel                0.026325\n",
       "Transient            0.016466\n",
       "Direct               0.009377\n",
       "lead_time            0.004638\n",
       "Groups               0.004388\n",
       "Group                0.004309\n",
       "Corporate            0.003792\n",
       "Complementary        0.003255\n",
       "Undefined            0.003186\n",
       "Aviation             0.001490\n",
       "Contract             0.001188\n",
       "arrival_year         0.000473\n",
       "Refundable           0.000434\n",
       "Non Refund           0.000233\n",
       "Online TA            0.000058\n",
       "dtype: float64"
      ]
     },
     "execution_count": 113,
     "metadata": {},
     "output_type": "execute_result"
    },
    {
     "data": {
      "image/png": "[encoded data removed]",
      "text/plain": [
       "<Figure size 432x288 with 1 Axes>"
      ]
     },
     "metadata": {
      "needs_background": "light"
     },
     "output_type": "display_data"
    }
   ],
   "source": [
    "from sklearn.tree import DecisionTreeClassifier\n",
    "tree = DecisionTreeClassifier(random_state = 0)\n",
    "tree.fit(X_train, y_train)\n",
    "print(tree.score(X_test, y_test))\n",
    "plot(tree.feature_importances_, 'o')\n",
    "dict={}\n",
    "for k, v in zip(new_hotel.columns,tree.feature_importances_):\n",
    "    dict[k] = v\n",
    "pd.Series(dict).sort_values(ascending=False)"
   ]
  },
  {
   "cell_type": "markdown",
   "id": "d2b18ebc",
   "metadata": {},
   "source": [
    "# Support Vector Machine"
   ]
  },
  {
   "cell_type": "raw",
   "id": "b5c2a9b6",
   "metadata": {},
   "source": [
    "Taking too long to run\n",
    "\n",
    "df_svm = hotel_df.copy(deep=True)\n",
    "\n",
    "#we created a new column to see if the change from assigned room to reserved room is responsible for any cancellation\n",
    "df_svm['assigned_is_reserved']  = df_svm['assigned_room_type'] == df_svm['reserved_room_type']\n",
    "df_svm['assigned_is_reserved'] = df_svm['assigned_is_reserved'].map(lambda x: 1 if(x) else 0)\n",
    "\n",
    "#we are building a SVM model. Categorical variables will have to be one-hot-encoded. To avoid too many columns\n",
    "#or a drastic increase in dimensions, we need to drop some variables which possibly could lead to loss in accuracy\n",
    "#on predictions. \n",
    "#babies column had too many missing values\n",
    "#country had too many categories and one hot encoding would drastically increase the dimensionality of the dataset.\n",
    "#same goes for reserved room type and assgined room type. \n",
    "\n",
    "df_svm.drop(['babies','country','arrival_date_week_number','arrival_date_day_of_month', 'assigned_room_type','reserved_room_type','arrival_date_year','arrival_date_month'], axis=1, inplace=True)\n",
    "df_svm.dropna(inplace=True)\n",
    "\n",
    "#there were 400 rows which had a value zero for the adults column so we decided to drop them\n",
    "df_svm.drop(df_svm[df_svm['adults'] == 0].index, inplace=True)\n",
    "\n",
    "df_svm.drop('required_car_parking_spaces',axis=1,inplace=True)\n",
    "\n",
    "#undefined and SC are the same\n",
    "df_svm['meal'] = df_svm['meal'].map(lambda x: 'SC' if x == 'Undefined' else x)\n",
    "df_svm['meal'].value_counts()\n",
    "\n",
    "#1 for Resort Hotel,  0 for City Hotel\n",
    "df_svm['hotel'] = df_svm['hotel'].map(lambda x: 1 if x == 'Resort Hotel' else 0)\n",
    "\n",
    "#one hot encoding the categorical variables\n",
    "df_svm =  pd.concat([df_svm, pd.get_dummies(df_svm['meal'])],axis=1)\n",
    "df_svm.drop('meal',axis=1,inplace=True)\n",
    "\n",
    "df_svm =  pd.concat([df_svm, pd.get_dummies(df_svm['market_segment'])],axis=1)\n",
    "df_svm.drop('market_segment',axis=1,inplace=True)\n",
    "\n",
    "df_svm =  pd.concat([df_svm, pd.get_dummies(df_svm['deposit_type'])],axis=1)\n",
    "df_svm.drop('deposit_type',axis=1,inplace=True)\n",
    "\n",
    "df_svm =  pd.concat([df_svm, pd.get_dummies(df_svm['customer_type'])],axis=1)\n",
    "df_svm.drop('customer_type',axis=1,inplace=True)\n",
    "\n",
    "df_svm.head()\n",
    "\n",
    "df_svm.columns\n",
    "\n",
    "from sklearn.model_selection import cross_val_score\n",
    "from sklearn.preprocessing import StandardScaler\n",
    "from sklearn.svm import SVC\n",
    "from sklearn.pipeline import Pipeline\n",
    "ss = StandardScaler(copy=False)\n",
    "clf = SVC()\n",
    "pipeline = Pipeline(steps = [('StandardScaler',ss),('SVC',clf)])\n",
    "data_X = df_svm.drop(['is_canceled'],axis = 1)\n",
    "data_Y =  df_svm['is_canceled']\n",
    "score = cross_val_score(pipeline, data_X, data_Y, cv=5)\n",
    "print('Accurary', score.mean()*100)"
   ]
  },
  {
   "cell_type": "markdown",
   "id": "0ed36084",
   "metadata": {},
   "source": [
    "# Naive Bayes"
   ]
  },
  {
   "cell_type": "code",
   "execution_count": 427,
   "id": "b4213595",
   "metadata": {},
   "outputs": [
    {
     "data": {
      "text/html": [
       "<div>\n",
       "<style scoped>\n",
       "    .dataframe tbody tr th:only-of-type {\n",
       "        vertical-align: middle;\n",
       "    }\n",
       "\n",
       "    .dataframe tbody tr th {\n",
       "        vertical-align: top;\n",
       "    }\n",
       "\n",
       "    .dataframe thead th {\n",
       "        text-align: right;\n",
       "    }\n",
       "</style>\n",
       "<table border=\"1\" class=\"dataframe\">\n",
       "  <thead>\n",
       "    <tr style=\"text-align: right;\">\n",
       "      <th></th>\n",
       "      <th>is_canceled</th>\n",
       "      <th>lead_time</th>\n",
       "      <th>stays_in_weekend_nights</th>\n",
       "      <th>stays_in_week_nights</th>\n",
       "      <th>booking_changes</th>\n",
       "      <th>adr</th>\n",
       "      <th>meal_BB</th>\n",
       "      <th>meal_FB</th>\n",
       "      <th>meal_HB</th>\n",
       "      <th>meal_SC</th>\n",
       "      <th>...</th>\n",
       "      <th>previous_bookings_not_canceled_0</th>\n",
       "      <th>previous_bookings_not_canceled_1</th>\n",
       "      <th>total_of_special_requests_0</th>\n",
       "      <th>total_of_special_requests_1</th>\n",
       "      <th>total_of_special_requests_2</th>\n",
       "      <th>total_of_special_requests_3</th>\n",
       "      <th>total_of_special_requests_4</th>\n",
       "      <th>total_of_special_requests_5</th>\n",
       "      <th>assigned_is_reserved_0</th>\n",
       "      <th>assigned_is_reserved_1</th>\n",
       "    </tr>\n",
       "  </thead>\n",
       "  <tbody>\n",
       "    <tr>\n",
       "      <th>0</th>\n",
       "      <td>0</td>\n",
       "      <td>342</td>\n",
       "      <td>0</td>\n",
       "      <td>0</td>\n",
       "      <td>1</td>\n",
       "      <td>0.0</td>\n",
       "      <td>1</td>\n",
       "      <td>0</td>\n",
       "      <td>0</td>\n",
       "      <td>0</td>\n",
       "      <td>...</td>\n",
       "      <td>1</td>\n",
       "      <td>0</td>\n",
       "      <td>1</td>\n",
       "      <td>0</td>\n",
       "      <td>0</td>\n",
       "      <td>0</td>\n",
       "      <td>0</td>\n",
       "      <td>0</td>\n",
       "      <td>0</td>\n",
       "      <td>1</td>\n",
       "    </tr>\n",
       "    <tr>\n",
       "      <th>1</th>\n",
       "      <td>0</td>\n",
       "      <td>737</td>\n",
       "      <td>0</td>\n",
       "      <td>0</td>\n",
       "      <td>1</td>\n",
       "      <td>0.0</td>\n",
       "      <td>1</td>\n",
       "      <td>0</td>\n",
       "      <td>0</td>\n",
       "      <td>0</td>\n",
       "      <td>...</td>\n",
       "      <td>1</td>\n",
       "      <td>0</td>\n",
       "      <td>1</td>\n",
       "      <td>0</td>\n",
       "      <td>0</td>\n",
       "      <td>0</td>\n",
       "      <td>0</td>\n",
       "      <td>0</td>\n",
       "      <td>0</td>\n",
       "      <td>1</td>\n",
       "    </tr>\n",
       "    <tr>\n",
       "      <th>2</th>\n",
       "      <td>0</td>\n",
       "      <td>7</td>\n",
       "      <td>0</td>\n",
       "      <td>1</td>\n",
       "      <td>0</td>\n",
       "      <td>75.0</td>\n",
       "      <td>1</td>\n",
       "      <td>0</td>\n",
       "      <td>0</td>\n",
       "      <td>0</td>\n",
       "      <td>...</td>\n",
       "      <td>1</td>\n",
       "      <td>0</td>\n",
       "      <td>1</td>\n",
       "      <td>0</td>\n",
       "      <td>0</td>\n",
       "      <td>0</td>\n",
       "      <td>0</td>\n",
       "      <td>0</td>\n",
       "      <td>1</td>\n",
       "      <td>0</td>\n",
       "    </tr>\n",
       "    <tr>\n",
       "      <th>3</th>\n",
       "      <td>0</td>\n",
       "      <td>13</td>\n",
       "      <td>0</td>\n",
       "      <td>1</td>\n",
       "      <td>0</td>\n",
       "      <td>75.0</td>\n",
       "      <td>1</td>\n",
       "      <td>0</td>\n",
       "      <td>0</td>\n",
       "      <td>0</td>\n",
       "      <td>...</td>\n",
       "      <td>1</td>\n",
       "      <td>0</td>\n",
       "      <td>1</td>\n",
       "      <td>0</td>\n",
       "      <td>0</td>\n",
       "      <td>0</td>\n",
       "      <td>0</td>\n",
       "      <td>0</td>\n",
       "      <td>0</td>\n",
       "      <td>1</td>\n",
       "    </tr>\n",
       "    <tr>\n",
       "      <th>4</th>\n",
       "      <td>0</td>\n",
       "      <td>14</td>\n",
       "      <td>0</td>\n",
       "      <td>2</td>\n",
       "      <td>0</td>\n",
       "      <td>98.0</td>\n",
       "      <td>1</td>\n",
       "      <td>0</td>\n",
       "      <td>0</td>\n",
       "      <td>0</td>\n",
       "      <td>...</td>\n",
       "      <td>1</td>\n",
       "      <td>0</td>\n",
       "      <td>0</td>\n",
       "      <td>1</td>\n",
       "      <td>0</td>\n",
       "      <td>0</td>\n",
       "      <td>0</td>\n",
       "      <td>0</td>\n",
       "      <td>0</td>\n",
       "      <td>1</td>\n",
       "    </tr>\n",
       "  </tbody>\n",
       "</table>\n",
       "<p>5 rows × 58 columns</p>\n",
       "</div>"
      ],
      "text/plain": [
       "   is_canceled  lead_time  stays_in_weekend_nights  stays_in_week_nights  \\\n",
       "0            0        342                        0                     0   \n",
       "1            0        737                        0                     0   \n",
       "2            0          7                        0                     1   \n",
       "3            0         13                        0                     1   \n",
       "4            0         14                        0                     2   \n",
       "\n",
       "   booking_changes   adr  meal_BB  meal_FB  meal_HB  meal_SC  ...  \\\n",
       "0                1   0.0        1        0        0        0  ...   \n",
       "1                1   0.0        1        0        0        0  ...   \n",
       "2                0  75.0        1        0        0        0  ...   \n",
       "3                0  75.0        1        0        0        0  ...   \n",
       "4                0  98.0        1        0        0        0  ...   \n",
       "\n",
       "   previous_bookings_not_canceled_0  previous_bookings_not_canceled_1  \\\n",
       "0                                 1                                 0   \n",
       "1                                 1                                 0   \n",
       "2                                 1                                 0   \n",
       "3                                 1                                 0   \n",
       "4                                 1                                 0   \n",
       "\n",
       "   total_of_special_requests_0  total_of_special_requests_1  \\\n",
       "0                            1                            0   \n",
       "1                            1                            0   \n",
       "2                            1                            0   \n",
       "3                            1                            0   \n",
       "4                            0                            1   \n",
       "\n",
       "   total_of_special_requests_2  total_of_special_requests_3  \\\n",
       "0                            0                            0   \n",
       "1                            0                            0   \n",
       "2                            0                            0   \n",
       "3                            0                            0   \n",
       "4                            0                            0   \n",
       "\n",
       "   total_of_special_requests_4  total_of_special_requests_5  \\\n",
       "0                            0                            0   \n",
       "1                            0                            0   \n",
       "2                            0                            0   \n",
       "3                            0                            0   \n",
       "4                            0                            0   \n",
       "\n",
       "   assigned_is_reserved_0  assigned_is_reserved_1  \n",
       "0                       0                       1  \n",
       "1                       0                       1  \n",
       "2                       1                       0  \n",
       "3                       0                       1  \n",
       "4                       0                       1  \n",
       "\n",
       "[5 rows x 58 columns]"
      ]
     },
     "execution_count": 427,
     "metadata": {},
     "output_type": "execute_result"
    }
   ],
   "source": [
    "df_nb = hotel_df.copy(deep=True)\n",
    "df_nb.head()\n",
    "\n",
    "#we created a new column to see if assigned room was different from reserved room \n",
    "df_nb['assigned_is_reserved']  = df_nb['assigned_room_type'] == df_nb['reserved_room_type']\n",
    "df_nb['assigned_is_reserved'] = df_nb['assigned_is_reserved'].map(lambda x: 1 if(x) else 0)\n",
    "\n",
    "#we have dropped country for now, but we want to employ it as a predictor by grouping countries into continents maybe?\n",
    "df_nb.drop(['babies','arrival_date_week_number','arrival_date_day_of_month','arrival_date_year','arrival_date_month','required_car_parking_spaces','days_in_waiting_list','country','assigned_room_type','reserved_room_type'], axis=1, inplace=True)\n",
    "\n",
    "#map 1 and 0 to Resort Hotel and City Hotel respectively\n",
    "df_nb['hotel'] = df_nb['hotel'].map(lambda x: 1 if x == 'Resort Hotel' else 0)\n",
    "\n",
    "#Undefined is the same as SC\n",
    "df_nb['meal'] = df_nb['meal'].map(lambda x: 'SC' if x == 'Undefined' else x)\n",
    "\n",
    "#this column can be made into yes or no - binning will not work\n",
    "df_nb['previous_cancellations'] = df_nb['previous_cancellations'].map(lambda x: 1 if x>0 else 0)\n",
    "\n",
    "#we are changing the values in this column to reflect if there was a previous booking that was not canceled\n",
    "df_nb['previous_bookings_not_canceled'] = df_nb['previous_bookings_not_canceled'].map(lambda x: 1 if x>0 else 0)\n",
    "\n",
    "#this column will tell us if there were any booking changes\n",
    "df_nb['booking_changes'] = df_nb['booking_changes'].map(lambda x: 1 if x>0 else 0)\n",
    "\n",
    "#we could also use cut() instead of qcut() to manually define the boundaries and not get error from qcut()\n",
    "#there were 400 rows which had a value zero for the adults column so we decided to drop them\n",
    "df_nb.drop(df_nb[df_nb['adults'] == 0].index, inplace=True)\n",
    "\n",
    "#drop 4 rows with missing value for children\n",
    "df_nb.dropna(inplace=True)\n",
    "\n",
    "#one hot encoding the categorical variables\n",
    "categorical_cols = ['meal','market_segment','deposit_type','customer_type']\n",
    "df_nb = pd.concat([df_nb, pd.get_dummies(df_nb[categorical_cols])],axis=1)\n",
    "df_nb.drop(['meal','market_segment','deposit_type','customer_type'],axis=1,inplace=True)\n",
    "\n",
    "more_cat_cols = ['hotel','adults','children','is_repeated_guest','previous_cancellations','previous_bookings_not_canceled','total_of_special_requests','assigned_is_reserved']\n",
    "df_nb[more_cat_cols] = df_nb[more_cat_cols].astype(str)\n",
    "df_nb = pd.concat([df_nb, pd.get_dummies(df_nb[more_cat_cols])],axis=1)\n",
    "df_nb.drop( ['hotel','adults','children','is_repeated_guest','previous_cancellations','previous_bookings_not_canceled','total_of_special_requests','assigned_is_reserved'],axis=1,inplace=True)\n",
    "\n",
    "df_nb.head()"
   ]
  },
  {
   "cell_type": "code",
   "execution_count": 428,
   "id": "8e3a48fd",
   "metadata": {},
   "outputs": [],
   "source": [
    "df_nbm = df_nb.copy(deep=True)\n",
    "df_nbg = df_nb.copy(deep=True)"
   ]
  },
  {
   "cell_type": "markdown",
   "id": "88b16aee",
   "metadata": {},
   "source": [
    "# Naive Bayes Multinomial"
   ]
  },
  {
   "cell_type": "code",
   "execution_count": 432,
   "id": "fc77967c",
   "metadata": {},
   "outputs": [
    {
     "name": "stderr",
     "output_type": "stream",
     "text": [
      "<ipython-input-432-4c187e1e1eb9>:7: SettingWithCopyWarning: \n",
      "A value is trying to be set on a copy of a slice from a DataFrame.\n",
      "Try using .loc[row_indexer,col_indexer] = value instead\n",
      "\n",
      "See the caveats in the documentation: https://pandas.pydata.org/pandas-docs/stable/user_guide/indexing.html#returning-a-view-versus-a-copy\n",
      "  X_train['lead_time_b'], lt = pd.qcut(X_train['lead_time'],3, retbins = True)\n",
      "<ipython-input-432-4c187e1e1eb9>:8: SettingWithCopyWarning: \n",
      "A value is trying to be set on a copy of a slice from a DataFrame.\n",
      "Try using .loc[row_indexer,col_indexer] = value instead\n",
      "\n",
      "See the caveats in the documentation: https://pandas.pydata.org/pandas-docs/stable/user_guide/indexing.html#returning-a-view-versus-a-copy\n",
      "  X_train['weekend'], wknd = pd.qcut(X_train['stays_in_weekend_nights'],3, duplicates = 'drop', retbins = True)\n",
      "<ipython-input-432-4c187e1e1eb9>:9: SettingWithCopyWarning: \n",
      "A value is trying to be set on a copy of a slice from a DataFrame.\n",
      "Try using .loc[row_indexer,col_indexer] = value instead\n",
      "\n",
      "See the caveats in the documentation: https://pandas.pydata.org/pandas-docs/stable/user_guide/indexing.html#returning-a-view-versus-a-copy\n",
      "  X_train['week'], wk = pd.qcut(X_train['stays_in_week_nights'],3, duplicates = 'drop', retbins = True)\n",
      "<ipython-input-432-4c187e1e1eb9>:10: SettingWithCopyWarning: \n",
      "A value is trying to be set on a copy of a slice from a DataFrame.\n",
      "Try using .loc[row_indexer,col_indexer] = value instead\n",
      "\n",
      "See the caveats in the documentation: https://pandas.pydata.org/pandas-docs/stable/user_guide/indexing.html#returning-a-view-versus-a-copy\n",
      "  X_train['adr_b'], adr = pd.qcut(X_train['adr'],3, duplicates = 'drop', retbins = True)\n",
      "/opt/anaconda3/lib/python3.8/site-packages/pandas/core/frame.py:4308: SettingWithCopyWarning: \n",
      "A value is trying to be set on a copy of a slice from a DataFrame\n",
      "\n",
      "See the caveats in the documentation: https://pandas.pydata.org/pandas-docs/stable/user_guide/indexing.html#returning-a-view-versus-a-copy\n",
      "  return super().drop(\n"
     ]
    },
    {
     "name": "stdout",
     "output_type": "stream",
     "text": [
      "Accuracy:  78.16804509548317\n"
     ]
    },
    {
     "name": "stderr",
     "output_type": "stream",
     "text": [
      "<ipython-input-432-4c187e1e1eb9>:24: SettingWithCopyWarning: \n",
      "A value is trying to be set on a copy of a slice from a DataFrame.\n",
      "Try using .loc[row_indexer,col_indexer] = value instead\n",
      "\n",
      "See the caveats in the documentation: https://pandas.pydata.org/pandas-docs/stable/user_guide/indexing.html#returning-a-view-versus-a-copy\n",
      "  X_test['lead_time_b']= pd.cut(X_test['lead_time'],bins = lt, include_lowest = True)\n",
      "<ipython-input-432-4c187e1e1eb9>:25: SettingWithCopyWarning: \n",
      "A value is trying to be set on a copy of a slice from a DataFrame.\n",
      "Try using .loc[row_indexer,col_indexer] = value instead\n",
      "\n",
      "See the caveats in the documentation: https://pandas.pydata.org/pandas-docs/stable/user_guide/indexing.html#returning-a-view-versus-a-copy\n",
      "  X_test['weekend']= pd.cut(X_test['stays_in_weekend_nights'],bins = wknd, include_lowest = True)\n",
      "<ipython-input-432-4c187e1e1eb9>:26: SettingWithCopyWarning: \n",
      "A value is trying to be set on a copy of a slice from a DataFrame.\n",
      "Try using .loc[row_indexer,col_indexer] = value instead\n",
      "\n",
      "See the caveats in the documentation: https://pandas.pydata.org/pandas-docs/stable/user_guide/indexing.html#returning-a-view-versus-a-copy\n",
      "  X_test['week']= pd.cut(X_test['stays_in_week_nights'],bins = wk, include_lowest = True)\n",
      "<ipython-input-432-4c187e1e1eb9>:27: SettingWithCopyWarning: \n",
      "A value is trying to be set on a copy of a slice from a DataFrame.\n",
      "Try using .loc[row_indexer,col_indexer] = value instead\n",
      "\n",
      "See the caveats in the documentation: https://pandas.pydata.org/pandas-docs/stable/user_guide/indexing.html#returning-a-view-versus-a-copy\n",
      "  X_test['adr_b']= pd.cut(X_test['adr'],bins = adr, include_lowest = True)\n",
      "/opt/anaconda3/lib/python3.8/site-packages/pandas/core/frame.py:4308: SettingWithCopyWarning: \n",
      "A value is trying to be set on a copy of a slice from a DataFrame\n",
      "\n",
      "See the caveats in the documentation: https://pandas.pydata.org/pandas-docs/stable/user_guide/indexing.html#returning-a-view-versus-a-copy\n",
      "  return super().drop(\n"
     ]
    },
    {
     "data": {
      "text/plain": [
       "0.7799821724181841"
      ]
     },
     "execution_count": 432,
     "metadata": {},
     "output_type": "execute_result"
    }
   ],
   "source": [
    "data_X = df_nbm.drop(['is_canceled'],axis = 1)\n",
    "data_Y =  df_nbm['is_canceled']\n",
    "X_train, X_test, Y_train, Y_test = train_test_split(data_X, data_Y, test_size = 0.33, random_state=42)\n",
    "\n",
    "\n",
    "#qcut to bin continuous variables\n",
    "X_train['lead_time_b'], lt = pd.qcut(X_train['lead_time'],3, retbins = True)\n",
    "X_train['weekend'], wknd = pd.qcut(X_train['stays_in_weekend_nights'],3, duplicates = 'drop', retbins = True)\n",
    "X_train['week'], wk = pd.qcut(X_train['stays_in_week_nights'],3, duplicates = 'drop', retbins = True)\n",
    "X_train['adr_b'], adr = pd.qcut(X_train['adr'],3, duplicates = 'drop', retbins = True)\n",
    "X_train.drop(['lead_time','stays_in_weekend_nights','stays_in_week_nights','adr'],axis=1,inplace=True)\n",
    "\n",
    "cat_cols = ['lead_time_b','weekend','week','adr_b']\n",
    "X_train = pd.concat([X_train, pd.get_dummies(X_train[cat_cols])],axis=1)\n",
    "X_train.drop(['lead_time_b','weekend','week','adr_b'],axis=1,inplace=True)\n",
    "\n",
    "\n",
    "clf_nbm = MultinomialNB()\n",
    "clf_nbm.fit(X_train,Y_train)\n",
    "scores = cross_val_score(clf_nbm, X_train, Y_train, cv=10)\n",
    "print(\"Accuracy: \" , scores.mean()*100)\n",
    "\n",
    "\n",
    "X_test['lead_time_b']= pd.cut(X_test['lead_time'],bins = lt, include_lowest = True)\n",
    "X_test['weekend']= pd.cut(X_test['stays_in_weekend_nights'],bins = wknd, include_lowest = True)\n",
    "X_test['week']= pd.cut(X_test['stays_in_week_nights'],bins = wk, include_lowest = True)\n",
    "X_test['adr_b']= pd.cut(X_test['adr'],bins = adr, include_lowest = True)\n",
    "X_test.drop(['lead_time','stays_in_weekend_nights','stays_in_week_nights','adr'],axis=1,inplace=True)\n",
    "\n",
    "cat_cols = ['lead_time_b','weekend','week','adr_b']\n",
    "X_test = pd.concat([X_test, pd.get_dummies(X_test[cat_cols])],axis=1)\n",
    "X_test.drop(['lead_time_b','weekend','week','adr_b'],axis=1,inplace=True)\n",
    "\n",
    "y_pred = clf_nbm.predict(X_test) \n",
    "sum(y_pred == Y_test)/len(Y_test)"
   ]
  },
  {
   "cell_type": "code",
   "execution_count": 431,
   "id": "661dca35",
   "metadata": {},
   "outputs": [
    {
     "name": "stdout",
     "output_type": "stream",
     "text": [
      "              precision    recall  f1-score   support\n",
      "\n",
      "     class 0       0.78      0.91      0.84     24717\n",
      "     class 1       0.79      0.56      0.65     14548\n",
      "\n",
      "    accuracy                           0.78     39265\n",
      "   macro avg       0.78      0.73      0.75     39265\n",
      "weighted avg       0.78      0.78      0.77     39265\n",
      "\n"
     ]
    }
   ],
   "source": [
    "target_names = ['class 0','class 1']\n",
    "print(classification_report(Y_test, y_pred , target_names = target_names))"
   ]
  },
  {
   "cell_type": "code",
   "execution_count": 433,
   "id": "7fcd9223",
   "metadata": {},
   "outputs": [
    {
     "data": {
      "image/png": "[encoded data removed]",
      "text/plain": [
       "<Figure size 432x288 with 1 Axes>"
      ]
     },
     "metadata": {
      "needs_background": "light"
     },
     "output_type": "display_data"
    },
    {
     "name": "stdout",
     "output_type": "stream",
     "text": [
      "0.8318201009861103\n"
     ]
    }
   ],
   "source": [
    "from sklearn import metrics\n",
    "prob = clf_nbm.fit(X_train, Y_train).predict_proba(X_test)\n",
    "rare = []\n",
    "for i in prob:\n",
    "    rare.append(i[1])\n",
    "fpr, tpr, thresholds = metrics.roc_curve(Y_test, rare)\n",
    "\n",
    "\n",
    "plt.plot([0,1],[0,1],'k--') #plot the diagonal line\n",
    "plt.plot(fpr, tpr, label='NB') #plot the ROC curve\n",
    "plt.xlabel('fpr')\n",
    "plt.ylabel('tpr')\n",
    "plt.title('ROC Curve Multinomial Naive Bayes')\n",
    "plt.show()\n",
    "auc = metrics.roc_auc_score(Y_test,rare)\n",
    "print(auc)"
   ]
  },
  {
   "cell_type": "markdown",
   "id": "1a680674",
   "metadata": {},
   "source": [
    "# Naive Bayes Gaussian"
   ]
  },
  {
   "cell_type": "code",
   "execution_count": 434,
   "id": "94c5732a",
   "metadata": {},
   "outputs": [
    {
     "name": "stdout",
     "output_type": "stream",
     "text": [
      "Accuracy:  77.11182259851522\n",
      "              precision    recall  f1-score   support\n",
      "\n",
      "     class 0       0.74      0.98      0.84     24717\n",
      "     class 1       0.91      0.43      0.58     14548\n",
      "\n",
      "    accuracy                           0.77     39265\n",
      "   macro avg       0.83      0.70      0.71     39265\n",
      "weighted avg       0.80      0.77      0.75     39265\n",
      "\n"
     ]
    }
   ],
   "source": [
    "data_X = df_nbg.drop(['is_canceled'],axis = 1)\n",
    "data_Y =  df_nbg['is_canceled']\n",
    "X_train, X_test, Y_train, Y_test = train_test_split(data_X, data_Y, test_size = 0.33, random_state = 42)\n",
    "\n",
    "clf_nbg = GaussianNB()\n",
    "clf_nbg.fit(X_train,Y_train)\n",
    "scores = cross_val_score(clf_nbg, X_train, Y_train, cv=10)\n",
    "print(\"Accuracy: \" , scores.mean()*100)\n",
    "\n",
    "y_pred_nbg = clf_nbg.predict(X_test)\n",
    "sum(y_pred_nbg == Y_test)/len(Y_test)\n",
    "\n",
    "target_names = ['class 0','class 1']\n",
    "print(classification_report(Y_test, y_pred_nbg , target_names = target_names))\n"
   ]
  },
  {
   "cell_type": "code",
   "execution_count": 436,
   "id": "4600c07e",
   "metadata": {},
   "outputs": [
    {
     "data": {
      "image/png": "[encoded data removed]",
      "text/plain": [
       "<Figure size 432x288 with 1 Axes>"
      ]
     },
     "metadata": {
      "needs_background": "light"
     },
     "output_type": "display_data"
    },
    {
     "name": "stdout",
     "output_type": "stream",
     "text": [
      "0.8239663338177057\n"
     ]
    }
   ],
   "source": [
    "from sklearn import metrics\n",
    "prob = clf_nbg.fit(X_train, Y_train).predict_proba(X_test)\n",
    "rare = []\n",
    "for i in prob:\n",
    "    rare.append(i[1])\n",
    "fpr, tpr, thresholds = metrics.roc_curve(Y_test, rare)\n",
    "\n",
    "\n",
    "plt.plot([0,1],[0,1],'k--') #plot the diagonal line\n",
    "plt.plot(fpr, tpr, label='NB') #plot the ROC curve\n",
    "plt.xlabel('fpr')\n",
    "plt.ylabel('tpr')\n",
    "plt.title('ROC Curve Gaussian Naive Bayes')\n",
    "plt.show()\n",
    "auc = metrics.roc_auc_score(Y_test,rare)\n",
    "print(auc)"
   ]
  },
  {
   "cell_type": "code",
   "execution_count": null,
   "id": "da570e1c",
   "metadata": {},
   "outputs": [],
   "source": [
    "#KNN with cross validation\n",
    "\n",
    "# from sklearn.preprocessing import MinMaxScaler\n",
    "# scaler = MinMaxScaler()\n",
    "# MinMaxScaler(copy = True)\n",
    "# scaler.fit(data)\n",
    "# npy = scaler.transform(data)\n",
    "# new = pd.DataFrame(data= npy)\n",
    "\n",
    "# from sklearn.model_selection import GridSearchCV\n",
    "# k = np.arange(30)+1\n",
    "# params = {'n_neighbors': k}\n",
    "# grid_search = GridSearchCV(kclf, params, cv=10)\n",
    "# grid_search.fit(data_X, data_Y)\n",
    "# print(grid_search.best_params_)\n",
    "\n",
    "# from sklearn.neighbors import KNeighborsClassifier\n",
    "# k =5\n",
    "# kclf = KNeighborsClassifier(n_neighbors=k)\n",
    "# accuracy = cross_val_score(kclf, data_X, data_Y, cv=10)\n",
    "# precision = cross_val_score(kclf, data_X, data_Y, cv=10, scoring='precision')\n",
    "# recall = cross_val_score(kclf, data_X, data_Y, cv=10, scoring='recall')\n",
    "# print('Accuracy: ', accuracy.mean()*100)\n",
    "# print('Precision: ', precision.mean()*100)\n",
    "# print('Recall: ', recall.mean()*100)\n",
    "\n",
    "# from sklearn.model_selection import cross_val_predict\n",
    "# y_pred = cross_val_predict(clf,data_X, data_Y)\n",
    "# cm = confusion_matrix(data_Y, y_pred,labels)\n",
    "# print(cm)\n",
    "# target_names = ['class 0','class 1']\n",
    "# print(classification_report(data_Y, y_pred, target_names = target_names))\n",
    "\n",
    "\n",
    "# X_train, X_test, Y_train, Y_test = train_test_split(data_X, data_Y, test_size = 0.20)\n",
    "# prob = clf.fit(X_train, Y_train).predict_proba(X_test)\n",
    "# rare = []\n",
    "# for i in prob:\n",
    "#     rare.append(i[1])\n",
    "# fpr, tpr, thresholds = metrics.roc_curve(Y_test, rare)\n",
    "\n",
    "# #replace these fpr and tpr with the results of your roc_curve\n",
    "# fpr, tpr = fpr, tpr\n",
    "# # Do not change this code! This plots the ROC curve.\n",
    "# # Just replace the fpr and tpr above with the values from your roc_curve\n",
    "# plt.plot([0,1],[0,1],'k--') #plot the diagonal line\n",
    "# plt.plot(fpr, tpr, label='NB') #plot the ROC curve\n",
    "# plt.xlabel('fpr')\n",
    "# plt.ylabel('tpr')\n",
    "# plt.title('ROC Curve Naive Bayes')\n",
    "# plt.show()\n",
    "# auc = metrics.roc_auc_score(Y_test,rare)\n",
    "# print(auc)"
   ]
  }
 ],
 "metadata": {
  "kernelspec": {
   "display_name": "Python 3",
   "language": "python",
   "name": "python3"
  },
  "language_info": {
   "codemirror_mode": {
    "name": "ipython",
    "version": 3
   },
   "file_extension": ".py",
   "mimetype": "text/x-python",
   "name": "python",
   "nbconvert_exporter": "python",
   "pygments_lexer": "ipython3",
   "version": "3.9.5"
  }
 },
 "nbformat": 4,
 "nbformat_minor": 5
}
